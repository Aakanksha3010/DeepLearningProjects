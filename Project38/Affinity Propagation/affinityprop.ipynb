{
 "cells": [
  {
   "cell_type": "markdown",
   "metadata": {},
   "source": [
    "## Importing necessary libraries needed for anlaysis and creating the data from the paper cited"
   ]
  },
  {
   "cell_type": "code",
   "execution_count": 6,
   "metadata": {},
   "outputs": [],
   "source": [
    "import numpy as np\n",
    "import matplotlib.pyplot as plt\n",
    "from sklearn.datasets import *\n",
    "%matplotlib inline"
   ]
  },
  {
   "cell_type": "code",
   "execution_count": 7,
   "metadata": {},
   "outputs": [],
   "source": [
    "X = np.array([[3,4,3,2,1],\n",
    "              [4,3,5,1,1],\n",
    "              [3,5,3,3,3],\n",
    "              [2,1,3,3,2],\n",
    "              [1,1,3,2,3]\n",
    "             ])"
   ]
  },
  {
   "cell_type": "markdown",
   "metadata": {},
   "source": [
    "### Step 1:- Setting up initial parameters and creating sample dictionary to track the indices of sample points"
   ]
  },
  {
   "cell_type": "code",
   "execution_count": 8,
   "metadata": {},
   "outputs": [],
   "source": [
    "sample_dict = dict(zip(range(X.shape[0]),np.array([X[i,:] for i in range(X.shape[0])])))\n",
    "n_iters     = 300\n",
    "damping     = 0.8\n"
   ]
  },
  {
   "cell_type": "markdown",
   "metadata": {},
   "source": [
    "### Step  2:- Creating similarity matrix using the usual definition"
   ]
  },
  {
   "cell_type": "code",
   "execution_count": 9,
   "metadata": {},
   "outputs": [],
   "source": [
    "def create_similarity_matrix():\n",
    "    S = np.zeros((X.shape[0],X.shape[0]))\n",
    "    for i in range(X.shape[0]):\n",
    "        for j in range(X.shape[0]):\n",
    "            S[i,j] = -1*(X[i]-X[j]).T.dot(X[i]-X[j])\n",
    "    digval= S.min()\n",
    "    return np.array([[digval if i==j else S[i,j] for j in range(X.shape[0]) ] for i in range(X.shape[0])])"
   ]
  },
  {
   "cell_type": "markdown",
   "metadata": {},
   "source": [
    "### Step 3:- Creating a funciton to calculate responsibility between node i and node k"
   ]
  },
  {
   "cell_type": "code",
   "execution_count": 10,
   "metadata": {},
   "outputs": [],
   "source": [
    "def calculate_rik(a,s,k):\n",
    "    s = list(s)\n",
    "    a = list(a)\n",
    "    sik = s[k]\n",
    "    s_needed = np.array(s[:k]+s[k+1:])\n",
    "    a_needed = np.array(a[:k]+a[k+1:])\n",
    "    return sik-max(s_needed+a_needed)"
   ]
  },
  {
   "cell_type": "markdown",
   "metadata": {},
   "source": [
    "### Step 4:- Creating a function to compute the availablity between node i and node k"
   ]
  },
  {
   "cell_type": "code",
   "execution_count": 11,
   "metadata": {},
   "outputs": [],
   "source": [
    "def calculate_aik(r,k,i):\n",
    "    rkk = r[k]\n",
    "    r   = list(r)\n",
    "    vec = []\n",
    "    r   = np.array(r[:i]+r[i+1:])\n",
    "    for n in range(len(r)):\n",
    "        vec.append(max(0,r[n]))\n",
    "    if k==i:\n",
    "        return sum(vec)\n",
    "    else:\n",
    "        return min(0,rkk+sum(vec))\n",
    "    \n",
    "    "
   ]
  },
  {
   "cell_type": "markdown",
   "metadata": {},
   "source": [
    "### Step 5:- Function to create the responsibility matrix"
   ]
  },
  {
   "cell_type": "code",
   "execution_count": 12,
   "metadata": {},
   "outputs": [],
   "source": [
    "def update_R(A,S,R):\n",
    "    for i in range(X.shape[0]):\n",
    "        a = A[i,:]\n",
    "        s = S[i,:]\n",
    "        for k in range(X.shape[0]):\n",
    "            R[i,k] = calculate_rik(a,s,k)\n",
    "    return R"
   ]
  },
  {
   "cell_type": "markdown",
   "metadata": {},
   "source": [
    "### Step 6:- Function to create the availablity matrix"
   ]
  },
  {
   "cell_type": "code",
   "execution_count": 13,
   "metadata": {},
   "outputs": [],
   "source": [
    "def update_A(R,A):\n",
    "    for i in range(X.shape[0]):\n",
    "        for k in range(X.shape[0]):\n",
    "            r=R[:,k]\n",
    "            A[i,k] = calculate_aik(r,k,i)\n",
    "    return A"
   ]
  },
  {
   "cell_type": "markdown",
   "metadata": {},
   "source": [
    "### Step 7:- Function to recursively update the responsibilty and availability matrix using the iterative equations discussed"
   ]
  },
  {
   "cell_type": "code",
   "execution_count": 14,
   "metadata": {},
   "outputs": [],
   "source": [
    "def update_lambda_a_r(R,A,R_old,A_old):\n",
    "    R = damping*R_old+(1-damping)*R\n",
    "    A = damping*A_old+(1-damping)*A\n",
    "    return R,A"
   ]
  },
  {
   "cell_type": "markdown",
   "metadata": {},
   "source": [
    "### Step 8:- Implementing Affinity propagation algorithm "
   ]
  },
  {
   "cell_type": "code",
   "execution_count": 15,
   "metadata": {},
   "outputs": [],
   "source": [
    "A           = np.zeros((X.shape[0],X.shape[0]))\n",
    "R           = np.zeros((X.shape[0],X.shape[0]))"
   ]
  },
  {
   "cell_type": "code",
   "execution_count": 16,
   "metadata": {},
   "outputs": [],
   "source": [
    "S = create_similarity_matrix()\n",
    "for n in range(n_iters):\n",
    "    old_R = R.copy()\n",
    "    old_A = A.copy()\n",
    "    R     = update_R(A,S,R)\n",
    "    A     = update_A(R,A)\n",
    "    if n!=0:\n",
    "        R,A = update_lambda_a_r(R,A,old_R,old_A)\n",
    "decision_mat = A+R"
   ]
  },
  {
   "cell_type": "code",
   "execution_count": 17,
   "metadata": {},
   "outputs": [
    {
     "name": "stdout",
     "output_type": "stream",
     "text": [
      "[0, 0, 0, 3, 3]\n"
     ]
    }
   ],
   "source": [
    "labels_our = [np.argmax(decision_mat[i]) for i in range(decision_mat.shape[0])]\n",
    "print(labels_our)"
   ]
  },
  {
   "cell_type": "markdown",
   "metadata": {},
   "source": [
    "<div class=\"alert alert-block alert-success\">\n",
    "<b>Conclusion:</b> We can clearly see the clustering done. The last two samples belong to one cluster and first three samples belong to a separate cluster\n",
    "</div>"
   ]
  },
  {
   "cell_type": "markdown",
   "metadata": {},
   "source": [
    "## We will now use clustering on a data with a reasonable size using in-built clustering algorithm in sklearn"
   ]
  },
  {
   "cell_type": "code",
   "execution_count": 34,
   "metadata": {},
   "outputs": [
    {
     "data": {
      "image/png": "[encoded data removed]",
      "text/plain": [
       "<Figure size 720x360 with 1 Axes>"
      ]
     },
     "metadata": {
      "needs_background": "light"
     },
     "output_type": "display_data"
    }
   ],
   "source": [
    "centers = [[1, 1], [-1, -1]]\n",
    "X, labels_true = make_blobs(n_samples=30, centers=centers, cluster_std=0.5,random_state=0)\n",
    "fig,ax = plt.subplots(figsize=(10,5))\n",
    "ax.set_title(\"Actual Data showing 2 clusters\")\n",
    "ax.scatter(X[:,0],X[:,1],c=labels_true,s=50,cmap = 'inferno');"
   ]
  },
  {
   "cell_type": "code",
   "execution_count": 35,
   "metadata": {},
   "outputs": [],
   "source": [
    "from sklearn.cluster import AffinityPropagation"
   ]
  },
  {
   "cell_type": "code",
   "execution_count": 36,
   "metadata": {},
   "outputs": [],
   "source": [
    "aff = AffinityPropagation(damping = 0.5,max_iter = 3000)\n",
    "aff.fit(X)\n",
    "labels = aff.labels_"
   ]
  },
  {
   "cell_type": "code",
   "execution_count": 38,
   "metadata": {},
   "outputs": [
    {
     "data": {
      "image/png": "[encoded data removed]",
      "text/plain": [
       "<Figure size 720x360 with 1 Axes>"
      ]
     },
     "metadata": {
      "needs_background": "light"
     },
     "output_type": "display_data"
    }
   ],
   "source": [
    "fig,ax = plt.subplots(figsize=(10,5))\n",
    "ax.set_title(\"Clusters obtained due to Affinity propagation\")\n",
    "ax.scatter(X[:,0],X[:,1],c=labels,s=50,cmap = 'inferno');"
   ]
  },
  {
   "cell_type": "markdown",
   "metadata": {},
   "source": [
    "<div class=\"alert alert-block alert-success\">\n",
    "<b>Conclusion :</b> Affinity propagation worked to cluster the data into 2 clusters with appropriate parameters provided\n",
    "</div>"
   ]
  },
  {
   "cell_type": "code",
   "execution_count": 3,
   "metadata": {},
   "outputs": [],
   "source": []
  },
  {
   "cell_type": "code",
   "execution_count": null,
   "metadata": {},
   "outputs": [],
   "source": []
  },
  {
   "cell_type": "code",
   "execution_count": null,
   "metadata": {},
   "outputs": [],
   "source": []
  }
 ],
 "metadata": {
  "kernelspec": {
   "display_name": "Python 3",
   "language": "python",
   "name": "python3"
  },
  "language_info": {
   "codemirror_mode": {
    "name": "ipython",
    "version": 3
   },
   "file_extension": ".py",
   "mimetype": "text/x-python",
   "name": "python",
   "nbconvert_exporter": "python",
   "pygments_lexer": "ipython3",
   "version": "3.7.4"
  }
 },
 "nbformat": 4,
 "nbformat_minor": 2
}
