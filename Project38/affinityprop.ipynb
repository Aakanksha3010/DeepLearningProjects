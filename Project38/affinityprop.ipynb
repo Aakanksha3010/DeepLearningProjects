{
 "cells": [
  {
   "cell_type": "code",
   "execution_count": 1,
   "metadata": {},
   "outputs": [],
   "source": [
    "import numpy as np\n",
    "import matplotlib.pyplot as plt\n",
    "from sklearn.datasets import *\n",
    "%matplotlib inline"
   ]
  },
  {
   "cell_type": "code",
   "execution_count": 2,
   "metadata": {},
   "outputs": [],
   "source": [
    "X = np.array([[3,4,3,2,1],\n",
    "              [4,3,5,1,1],\n",
    "              [3,5,3,3,3],\n",
    "              [2,1,3,3,2],\n",
    "              [1,1,3,2,3]\n",
    "             ])"
   ]
  },
  {
   "cell_type": "code",
   "execution_count": 17,
   "metadata": {},
   "outputs": [],
   "source": [
    "# centers = [[1, 1], [-1, -1]]\n",
    "# X, labels_true = make_blobs(n_samples=30, centers=centers, cluster_std=0.5,random_state=0)\n",
    "# fig,ax = plt.subplots(figsize=(10,5))\n",
    "# ax.set_title(\"Actual Data showing 2 clusters\")\n",
    "# ax.scatter(X[:,0],X[:,1],c=labels_true,s=50,cmap = 'inferno');"
   ]
  },
  {
   "cell_type": "code",
   "execution_count": 4,
   "metadata": {},
   "outputs": [],
   "source": [
    "sample_dict = dict(zip(range(X.shape[0]),np.array([X[i,:] for i in range(X.shape[0])])))\n",
    "n_iters     = 300\n",
    "damping     = 0.8\n"
   ]
  },
  {
   "cell_type": "code",
   "execution_count": 5,
   "metadata": {},
   "outputs": [],
   "source": [
    "def create_similarity_matrix():\n",
    "    S = np.zeros((X.shape[0],X.shape[0]))\n",
    "    for i in range(X.shape[0]):\n",
    "        for j in range(X.shape[0]):\n",
    "            S[i,j] = -1*(X[i]-X[j]).T.dot(X[i]-X[j])\n",
    "    digval= S.min()\n",
    "    return np.array([[digval if i==j else S[i,j] for j in range(X.shape[0]) ] for i in range(X.shape[0])])"
   ]
  },
  {
   "cell_type": "code",
   "execution_count": 6,
   "metadata": {},
   "outputs": [],
   "source": [
    "def calculate_rik(a,s,k):\n",
    "    s = list(s)\n",
    "    a = list(a)\n",
    "    sik = s[k]\n",
    "    s_needed = np.array(s[:k]+s[k+1:])\n",
    "    a_needed = np.array(a[:k]+a[k+1:])\n",
    "    return sik-max(s_needed+a_needed)"
   ]
  },
  {
   "cell_type": "code",
   "execution_count": 7,
   "metadata": {},
   "outputs": [],
   "source": [
    "def calculate_aik(r,k,i):\n",
    "    rkk = r[k]\n",
    "    r   = list(r)\n",
    "    vec = []\n",
    "    r   = np.array(r[:i]+r[i+1:])\n",
    "    for n in range(len(r)):\n",
    "        vec.append(max(0,r[n]))\n",
    "    if k==i:\n",
    "        return sum(vec)\n",
    "    else:\n",
    "        return min(0,rkk+sum(vec))\n",
    "    \n",
    "    "
   ]
  },
  {
   "cell_type": "code",
   "execution_count": 8,
   "metadata": {},
   "outputs": [],
   "source": [
    "def update_R(A,S,R):\n",
    "    for i in range(X.shape[0]):\n",
    "        a = A[i,:]\n",
    "        s = S[i,:]\n",
    "        for k in range(X.shape[0]):\n",
    "            R[i,k] = calculate_rik(a,s,k)\n",
    "    return R"
   ]
  },
  {
   "cell_type": "code",
   "execution_count": 9,
   "metadata": {},
   "outputs": [],
   "source": [
    "def update_A(R,A):\n",
    "    for i in range(X.shape[0]):\n",
    "        for k in range(X.shape[0]):\n",
    "            r=R[:,k]\n",
    "            A[i,k] = calculate_aik(r,k,i)\n",
    "    return A"
   ]
  },
  {
   "cell_type": "code",
   "execution_count": 10,
   "metadata": {},
   "outputs": [],
   "source": [
    "def update_lambda_a_r(R,A,R_old,A_old):\n",
    "    R = damping*R_old+(1-damping)*R\n",
    "    A = damping*A_old+(1-damping)*A\n",
    "    return R,A"
   ]
  },
  {
   "cell_type": "code",
   "execution_count": 11,
   "metadata": {},
   "outputs": [],
   "source": [
    "global A\n",
    "A           = np.zeros((X.shape[0],X.shape[0]))\n",
    "global R\n",
    "R           = np.zeros((X.shape[0],X.shape[0]))"
   ]
  },
  {
   "cell_type": "code",
   "execution_count": 12,
   "metadata": {},
   "outputs": [],
   "source": [
    "S = create_similarity_matrix()\n",
    "for n in range(n_iters):\n",
    "    #print(n)\n",
    "    old_R = R.copy()\n",
    "    old_A = A.copy()\n",
    "    R     = update_R(A,S,R)\n",
    "    A     = update_A(R,A)\n",
    "    if n!=0:\n",
    "        R,A = update_lambda_a_r(R,A,old_R,old_A)\n",
    "decision_mat = A+R"
   ]
  },
  {
   "cell_type": "code",
   "execution_count": 13,
   "metadata": {},
   "outputs": [],
   "source": [
    "labels_our = [np.argmax(decision_mat[i]) for i in range(decision_mat.shape[0])]\n"
   ]
  },
  {
   "cell_type": "code",
   "execution_count": 14,
   "metadata": {},
   "outputs": [
    {
     "data": {
      "image/png": "[encoded data removed]",
      "text/plain": [
       "<Figure size 720x360 with 1 Axes>"
      ]
     },
     "metadata": {
      "needs_background": "light"
     },
     "output_type": "display_data"
    }
   ],
   "source": [
    "fig,ax = plt.subplots(figsize=(10,5))\n",
    "ax.set_title(\"Actual Data showing 2 clusters\")\n",
    "ax.scatter(X[:,0],X[:,1],c=labels_our,s=50,cmap = 'inferno');"
   ]
  },
  {
   "cell_type": "code",
   "execution_count": 15,
   "metadata": {},
   "outputs": [
    {
     "data": {
      "text/plain": [
       "2"
      ]
     },
     "execution_count": 15,
     "metadata": {},
     "output_type": "execute_result"
    }
   ],
   "source": [
    "len(set(labels_our))"
   ]
  },
  {
   "cell_type": "code",
   "execution_count": null,
   "metadata": {},
   "outputs": [],
   "source": []
  },
  {
   "cell_type": "code",
   "execution_count": null,
   "metadata": {},
   "outputs": [],
   "source": []
  },
  {
   "cell_type": "code",
   "execution_count": null,
   "metadata": {},
   "outputs": [],
   "source": []
  }
 ],
 "metadata": {
  "kernelspec": {
   "display_name": "Python 3",
   "language": "python",
   "name": "python3"
  },
  "language_info": {
   "codemirror_mode": {
    "name": "ipython",
    "version": 3
   },
   "file_extension": ".py",
   "mimetype": "text/x-python",
   "name": "python",
   "nbconvert_exporter": "python",
   "pygments_lexer": "ipython3",
   "version": "3.7.4"
  }
 },
 "nbformat": 4,
 "nbformat_minor": 2
}
