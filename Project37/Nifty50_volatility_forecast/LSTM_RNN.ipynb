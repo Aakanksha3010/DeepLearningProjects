{
 "cells": [
  {
   "cell_type": "markdown",
   "metadata": {},
   "source": [
    "## Step 1 :-  Loading necessary libraries for Analysis "
   ]
  },
  {
   "cell_type": "code",
   "execution_count": 1,
   "metadata": {},
   "outputs": [
    {
     "name": "stderr",
     "output_type": "stream",
     "text": [
      "Using TensorFlow backend.\n"
     ]
    },
    {
     "name": "stdout",
     "output_type": "stream",
     "text": [
      "[name: \"/device:CPU:0\"\n",
      "device_type: \"CPU\"\n",
      "memory_limit: 268435456\n",
      "locality {\n",
      "}\n",
      "incarnation: 8752441269907537127\n",
      ", name: \"/device:GPU:0\"\n",
      "device_type: \"GPU\"\n",
      "memory_limit: 3141979340\n",
      "locality {\n",
      "  bus_id: 1\n",
      "  links {\n",
      "  }\n",
      "}\n",
      "incarnation: 5921701040519084389\n",
      "physical_device_desc: \"device: 0, name: GeForce GTX 1050 Ti, pci bus id: 0000:01:00.0, compute capability: 6.1\"\n",
      "]\n"
     ]
    }
   ],
   "source": [
    "import warnings\n",
    "warnings.filterwarnings(\"ignore\")\n",
    "import os \n",
    "import pandas as pd\n",
    "import numpy as np\n",
    "import matplotlib.pyplot as plt\n",
    "%matplotlib inline\n",
    "import sklearn\n",
    "from sklearn.preprocessing import MinMaxScaler\n",
    "from sklearn.metrics import r2_score,accuracy_score\n",
    "from keras.models import Sequential\n",
    "from keras.layers import Dense\n",
    "from keras.layers import LSTM, CuDNNLSTM\n",
    "from keras.layers import Dropout\n",
    "from keras.optimizers import *\n",
    "from keras.callbacks import *\n",
    "\n",
    "from tensorflow.python.client import device_lib\n",
    "print(device_lib.list_local_devices())"
   ]
  },
  {
   "cell_type": "markdown",
   "metadata": {},
   "source": [
    "## Step 2 :- Data load \n",
    "<div class=\"alert alert-block alert-success\">\n",
    "<b>We will be using the NIFTY50 stock price data from Jan 1, 2009 to November 24, 2019</b> \n",
    "    <br>\n",
    "The folder contains files downloaded from https://www1.nseindia.com/products/content/equities/indices/historical_index_data.htm . There are 10 excel files that will be merged together to form one dataset\n",
    "</div>"
   ]
  },
  {
   "cell_type": "code",
   "execution_count": 2,
   "metadata": {},
   "outputs": [
    {
     "name": "stdout",
     "output_type": "stream",
     "text": [
      "The number of data points in the dataframe :-  2695\n",
      "The top few columns of the dataset will look like :- \n"
     ]
    },
    {
     "data": {
      "text/html": [
       "<div>\n",
       "<style scoped>\n",
       "    .dataframe tbody tr th:only-of-type {\n",
       "        vertical-align: middle;\n",
       "    }\n",
       "\n",
       "    .dataframe tbody tr th {\n",
       "        vertical-align: top;\n",
       "    }\n",
       "\n",
       "    .dataframe thead th {\n",
       "        text-align: right;\n",
       "    }\n",
       "</style>\n",
       "<table border=\"1\" class=\"dataframe\">\n",
       "  <thead>\n",
       "    <tr style=\"text-align: right;\">\n",
       "      <th></th>\n",
       "      <th>Date</th>\n",
       "      <th>Open</th>\n",
       "      <th>High</th>\n",
       "      <th>Low</th>\n",
       "      <th>Close</th>\n",
       "      <th>Shares Traded</th>\n",
       "      <th>Turnover (Rs. Cr)</th>\n",
       "    </tr>\n",
       "  </thead>\n",
       "  <tbody>\n",
       "    <tr>\n",
       "      <td>0</td>\n",
       "      <td>01-Jan-2009</td>\n",
       "      <td>2963.30</td>\n",
       "      <td>3039.25</td>\n",
       "      <td>2963.30</td>\n",
       "      <td>3033.45</td>\n",
       "      <td>226681072</td>\n",
       "      <td>4302.54</td>\n",
       "    </tr>\n",
       "    <tr>\n",
       "      <td>1</td>\n",
       "      <td>02-Jan-2009</td>\n",
       "      <td>3034.60</td>\n",
       "      <td>3079.85</td>\n",
       "      <td>3021.80</td>\n",
       "      <td>3046.75</td>\n",
       "      <td>318672508</td>\n",
       "      <td>6132.72</td>\n",
       "    </tr>\n",
       "    <tr>\n",
       "      <td>2</td>\n",
       "      <td>05-Jan-2009</td>\n",
       "      <td>3058.75</td>\n",
       "      <td>3131.95</td>\n",
       "      <td>3056.45</td>\n",
       "      <td>3121.45</td>\n",
       "      <td>311929372</td>\n",
       "      <td>6737.94</td>\n",
       "    </tr>\n",
       "    <tr>\n",
       "      <td>3</td>\n",
       "      <td>06-Jan-2009</td>\n",
       "      <td>3121.50</td>\n",
       "      <td>3141.80</td>\n",
       "      <td>3056.10</td>\n",
       "      <td>3112.80</td>\n",
       "      <td>340452916</td>\n",
       "      <td>8091.74</td>\n",
       "    </tr>\n",
       "    <tr>\n",
       "      <td>4</td>\n",
       "      <td>07-Jan-2009</td>\n",
       "      <td>3112.80</td>\n",
       "      <td>3147.20</td>\n",
       "      <td>2888.20</td>\n",
       "      <td>2920.40</td>\n",
       "      <td>686898999</td>\n",
       "      <td>10865.55</td>\n",
       "    </tr>\n",
       "  </tbody>\n",
       "</table>\n",
       "</div>"
      ],
      "text/plain": [
       "          Date     Open     High      Low    Close  Shares Traded  \\\n",
       "0  01-Jan-2009  2963.30  3039.25  2963.30  3033.45      226681072   \n",
       "1  02-Jan-2009  3034.60  3079.85  3021.80  3046.75      318672508   \n",
       "2  05-Jan-2009  3058.75  3131.95  3056.45  3121.45      311929372   \n",
       "3  06-Jan-2009  3121.50  3141.80  3056.10  3112.80      340452916   \n",
       "4  07-Jan-2009  3112.80  3147.20  2888.20  2920.40      686898999   \n",
       "\n",
       "   Turnover (Rs. Cr)  \n",
       "0            4302.54  \n",
       "1            6132.72  \n",
       "2            6737.94  \n",
       "3            8091.74  \n",
       "4           10865.55  "
      ]
     },
     "execution_count": 2,
     "metadata": {},
     "output_type": "execute_result"
    }
   ],
   "source": [
    "path                = r'D:\\tcs projects\\nifty50'\n",
    "relevant_data_files = os.listdir(path)\n",
    "for i in range(len(relevant_data_files)):\n",
    "    filepath = path+'\\\\'+relevant_data_files[i]\n",
    "    if i ==0:\n",
    "        df          = pd.read_csv(filepath)\n",
    "    else:\n",
    "        df1         = pd.read_csv(path+'\\\\'+relevant_data_files[i])\n",
    "        df          = df.append(df1)\n",
    "print('The number of data points in the dataframe :- ',len(df))\n",
    "print('The top few columns of the dataset will look like :- ')\n",
    "df.head(5)"
   ]
  },
  {
   "cell_type": "markdown",
   "metadata": {},
   "source": [
    "## Step 3 :- Extracting Features from the data\n",
    "<div class=\"alert alert-block alert-success\">\n",
    "<b>Extracting the Closing price of the stock </b> \n",
    "    <br>\n",
    "We are going to work with the closing price of the stock and hence we are going to extract the 'Close' column of the dataframe loaded. The dataset is already sorted and hence we don't need to perform any ordering on the dataset\n",
    "</div>"
   ]
  },
  {
   "cell_type": "code",
   "execution_count": 4,
   "metadata": {},
   "outputs": [
    {
     "name": "stdout",
     "output_type": "stream",
     "text": [
      "The length of the sub data(containing only the volatility of stock prices) we have is:-  2695\n"
     ]
    },
    {
     "data": {
      "text/html": [
       "<div>\n",
       "<style scoped>\n",
       "    .dataframe tbody tr th:only-of-type {\n",
       "        vertical-align: middle;\n",
       "    }\n",
       "\n",
       "    .dataframe tbody tr th {\n",
       "        vertical-align: top;\n",
       "    }\n",
       "\n",
       "    .dataframe thead th {\n",
       "        text-align: right;\n",
       "    }\n",
       "</style>\n",
       "<table border=\"1\" class=\"dataframe\">\n",
       "  <thead>\n",
       "    <tr style=\"text-align: right;\">\n",
       "      <th></th>\n",
       "      <th>Close</th>\n",
       "    </tr>\n",
       "  </thead>\n",
       "  <tbody>\n",
       "    <tr>\n",
       "      <td>0</td>\n",
       "      <td>3033.45</td>\n",
       "    </tr>\n",
       "    <tr>\n",
       "      <td>1</td>\n",
       "      <td>3046.75</td>\n",
       "    </tr>\n",
       "    <tr>\n",
       "      <td>2</td>\n",
       "      <td>3121.45</td>\n",
       "    </tr>\n",
       "  </tbody>\n",
       "</table>\n",
       "</div>"
      ],
      "text/plain": [
       "     Close\n",
       "0  3033.45\n",
       "1  3046.75\n",
       "2  3121.45"
      ]
     },
     "execution_count": 4,
     "metadata": {},
     "output_type": "execute_result"
    }
   ],
   "source": [
    "sub_data_needed      = df.iloc[:,4:5]\n",
    "print('The length of the sub data(containing only the volatility of stock prices) we have is:- ', len(sub_data_needed))\n",
    "sub_data_needed.head(3)"
   ]
  },
  {
   "cell_type": "markdown",
   "metadata": {},
   "source": [
    "## Step 4:- Separating the Train and Validation data\n",
    "<div class=\"alert alert-block alert-success\">\n",
    "We are going to use the first 2500 dataset values for training the RNN model and the remaining 519 values to check the validity of the model.\n",
    "</div>"
   ]
  },
  {
   "cell_type": "code",
   "execution_count": 5,
   "metadata": {},
   "outputs": [
    {
     "name": "stdout",
     "output_type": "stream",
     "text": [
      "The size of training set is:-  2500\n"
     ]
    }
   ],
   "source": [
    "training_set = sub_data_needed.iloc[:2500,:].values\n",
    "print('The size of training set is:- ',len(training_set))"
   ]
  },
  {
   "cell_type": "markdown",
   "metadata": {},
   "source": [
    "## Step 5:- Preprocessing Training Data \n",
    "<div class=\"alert alert-block alert-success\">\n",
    "<b>Min-Max Normalization technique </b> \n",
    "    <br>\n",
    "1. We will <b> normalize the training dataset</b> <br>\n",
    "2.  We will arrange the <b> one dimensional dataset to a two dimensional dataset </b> where each row will consist of 90 timesteps to predict 1 output and we will have a 2 dimensional data having (2500-90) = 2410 rows and 90 columns. <br>\n",
    "3. We will also store the 91st observation corresponding to every row in a separate array to be used for testing in an LSTM model.<br>\n",
    "4. The input of the LSTM model is a 3D tensor with shape (batch_size, timesteps, input_dim). <br>\n",
    "    <b> In our case, batch size is 2410, timesteps is 90 and input_dim = 1 as we are only considering the closing prices </b>\n",
    "</div>"
   ]
  },
  {
   "cell_type": "code",
   "execution_count": 6,
   "metadata": {},
   "outputs": [
    {
     "name": "stdout",
     "output_type": "stream",
     "text": [
      "We get the Training data X of shape :-  (2410, 90, 1)\n",
      "We get the test data of shape       :-  (2410,)\n",
      "We can clearly see that corresponding to each set of 90 timesteps, we have one value to predict\n"
     ]
    }
   ],
   "source": [
    "time_dep            = 90\n",
    "sc                  = MinMaxScaler()\n",
    "training_set_scaled = sc.fit_transform(training_set)\n",
    "\n",
    "X_train             = []\n",
    "y_train             = []\n",
    "for i in range(time_dep, 2500):\n",
    "    X_train.append(training_set_scaled[i-time_dep:i, 0])\n",
    "    y_train.append(training_set_scaled[i, 0])\n",
    "X_train, y_train    = np.array(X_train), np.array(y_train)\n",
    "\n",
    "X_train             = np.reshape(X_train, (X_train.shape[0], X_train.shape[1], 1))\n",
    "print('We get the Training data X of shape :- ',X_train.shape)\n",
    "print('We get the test data of shape       :- ',y_train.shape)\n",
    "print('We can clearly see that corresponding to each set of 90 timesteps, we have one value to predict')"
   ]
  },
  {
   "cell_type": "markdown",
   "metadata": {},
   "source": [
    "## Step 6 : Callback Creation\n",
    "We create callbacks which we will be using while execution of the model"
   ]
  },
  {
   "cell_type": "code",
   "execution_count": 7,
   "metadata": {},
   "outputs": [],
   "source": [
    "reduce_lr = ReduceLROnPlateau(monitor='loss', factor=0.2,verbose=1,\n",
    "                              patience=5, min_lr=0.0001)\n",
    "es        = EarlyStopping(monitor='loss', patience=5, verbose=1, mode='auto', baseline=None, \n",
    "                          restore_best_weights=True)\n",
    "filepath   = 'D:\\\\CHECKPOINTS_LSTM\\\\'+\"weights-improvement-{epoch:02d}-{loss:.2f}.hdf5\"\n",
    "checkpoint = ModelCheckpoint(filepath, monitor='loss', verbose=1, save_best_only=True, mode='auto')"
   ]
  },
  {
   "cell_type": "markdown",
   "metadata": {},
   "source": [
    "## Step 7 : Building the actual model \n",
    "<div class=\"alert alert-block alert-success\">\n",
    "<b>LSTM + Dense layers </b> \n",
    "    <br>\n",
    "1. We will fit an <b> LSTM model having 3 layers</b> <br>\n",
    "2. We will then get the outcome of the LSTM layers to one dense layer having 100 hidden layers whose outcome will go to one final layer"
   ]
  },
  {
   "cell_type": "code",
   "execution_count": 8,
   "metadata": {},
   "outputs": [
    {
     "name": "stderr",
     "output_type": "stream",
     "text": [
      "WARNING: Logging before flag parsing goes to stderr.\n",
      "W1126 05:04:21.050247 12388 deprecation.py:506] From C:\\Users\\Batfleck\\Anaconda3\\envs\\keras-gpu\\lib\\site-packages\\tensorflow_core\\python\\ops\\resource_variable_ops.py:1630: calling BaseResourceVariable.__init__ (from tensorflow.python.ops.resource_variable_ops) with constraint is deprecated and will be removed in a future version.\n",
      "Instructions for updating:\n",
      "If using Keras pass *_constraint arguments to layers.\n"
     ]
    }
   ],
   "source": [
    "model = Sequential()\n",
    "model.add(LSTM(units=456,return_sequences=True,activation='tanh',input_shape = (X_train.shape[1],1)))\n",
    "model.add(Dropout(0.15))\n",
    "model.add(LSTM(units=456,return_sequences=True,activation = 'tanh'))\n",
    "model.add(Dropout(0.2))\n",
    "model.add(LSTM(units=456))\n",
    "model.add(Dropout(0.15))\n",
    "\n",
    "model.add(Dense(units = 388))\n",
    "model.add(Dropout(0.2))\n",
    "\n",
    "model.add(Dense(units = 1))\n",
    "\n",
    "model.compile(optimizer = Adam(learning_rate= 2.7e-04), loss = 'mean_squared_error')\n"
   ]
  },
  {
   "cell_type": "markdown",
   "metadata": {},
   "source": [
    "## Step 8 :- Fitting the model\n",
    "We will fit the model with fixed epochs and batch-size"
   ]
  },
  {
   "cell_type": "code",
   "execution_count": 9,
   "metadata": {
    "collapsed": true
   },
   "outputs": [
    {
     "name": "stderr",
     "output_type": "stream",
     "text": [
      "W1126 05:04:24.556433 12388 module_wrapper.py:139] From C:\\Users\\Batfleck\\Anaconda3\\envs\\keras-gpu\\lib\\site-packages\\keras\\backend\\tensorflow_backend.py:422: The name tf.global_variables is deprecated. Please use tf.compat.v1.global_variables instead.\n",
      "\n"
     ]
    },
    {
     "name": "stdout",
     "output_type": "stream",
     "text": [
      "Epoch 1/35\n",
      "2410/2410 [==============================] - 41s 17ms/step - loss: 0.0104\n",
      "\n",
      "Epoch 00001: loss improved from inf to 0.01041, saving model to D:\\CHECKPOINTS_LSTM\\weights-improvement-01-0.01.hdf5\n",
      "Epoch 2/35\n",
      "2410/2410 [==============================] - 41s 17ms/step - loss: 0.0033\n",
      "\n",
      "Epoch 00002: loss improved from 0.01041 to 0.00332, saving model to D:\\CHECKPOINTS_LSTM\\weights-improvement-02-0.00.hdf5\n",
      "Epoch 3/35\n",
      "2410/2410 [==============================] - 41s 17ms/step - loss: 0.0031\n",
      "\n",
      "Epoch 00003: loss improved from 0.00332 to 0.00305, saving model to D:\\CHECKPOINTS_LSTM\\weights-improvement-03-0.00.hdf5\n",
      "Epoch 4/35\n",
      "2410/2410 [==============================] - 41s 17ms/step - loss: 0.0023\n",
      "\n",
      "Epoch 00004: loss improved from 0.00305 to 0.00227, saving model to D:\\CHECKPOINTS_LSTM\\weights-improvement-04-0.00.hdf5\n",
      "Epoch 5/35\n",
      "2410/2410 [==============================] - 41s 17ms/step - loss: 0.0023\n",
      "\n",
      "Epoch 00005: loss improved from 0.00227 to 0.00226, saving model to D:\\CHECKPOINTS_LSTM\\weights-improvement-05-0.00.hdf5\n",
      "Epoch 6/35\n",
      "2410/2410 [==============================] - 41s 17ms/step - loss: 0.0027\n",
      "\n",
      "Epoch 00006: loss did not improve from 0.00226\n",
      "Epoch 7/35\n",
      "2410/2410 [==============================] - 41s 17ms/step - loss: 0.0017\n",
      "\n",
      "Epoch 00007: loss improved from 0.00226 to 0.00171, saving model to D:\\CHECKPOINTS_LSTM\\weights-improvement-07-0.00.hdf5\n",
      "Epoch 8/35\n",
      "2410/2410 [==============================] - 41s 17ms/step - loss: 0.0015\n",
      "\n",
      "Epoch 00008: loss improved from 0.00171 to 0.00149, saving model to D:\\CHECKPOINTS_LSTM\\weights-improvement-08-0.00.hdf5\n",
      "Epoch 9/35\n",
      "2410/2410 [==============================] - 41s 17ms/step - loss: 0.0015\n",
      "\n",
      "Epoch 00009: loss did not improve from 0.00149\n",
      "Epoch 10/35\n",
      "2410/2410 [==============================] - 41s 17ms/step - loss: 0.0014\n",
      "\n",
      "Epoch 00010: loss improved from 0.00149 to 0.00143, saving model to D:\\CHECKPOINTS_LSTM\\weights-improvement-10-0.00.hdf5\n",
      "Epoch 11/35\n",
      "2410/2410 [==============================] - 40s 17ms/step - loss: 0.0013\n",
      "\n",
      "Epoch 00011: loss improved from 0.00143 to 0.00132, saving model to D:\\CHECKPOINTS_LSTM\\weights-improvement-11-0.00.hdf5\n",
      "Epoch 12/35\n",
      "2410/2410 [==============================] - 41s 17ms/step - loss: 0.0014\n",
      "\n",
      "Epoch 00012: loss did not improve from 0.00132\n",
      "Epoch 13/35\n",
      "2410/2410 [==============================] - 41s 17ms/step - loss: 0.0013\n",
      "\n",
      "Epoch 00013: loss improved from 0.00132 to 0.00131, saving model to D:\\CHECKPOINTS_LSTM\\weights-improvement-13-0.00.hdf5\n",
      "Epoch 14/35\n",
      "2410/2410 [==============================] - 41s 17ms/step - loss: 0.0012\n",
      "\n",
      "Epoch 00014: loss improved from 0.00131 to 0.00125, saving model to D:\\CHECKPOINTS_LSTM\\weights-improvement-14-0.00.hdf5\n",
      "Epoch 15/35\n",
      "2410/2410 [==============================] - 41s 17ms/step - loss: 0.0012\n",
      "\n",
      "Epoch 00015: loss improved from 0.00125 to 0.00116, saving model to D:\\CHECKPOINTS_LSTM\\weights-improvement-15-0.00.hdf5\n",
      "Epoch 16/35\n",
      "2410/2410 [==============================] - 40s 17ms/step - loss: 0.0011\n",
      "\n",
      "Epoch 00016: loss improved from 0.00116 to 0.00110, saving model to D:\\CHECKPOINTS_LSTM\\weights-improvement-16-0.00.hdf5\n",
      "Epoch 17/35\n",
      "2410/2410 [==============================] - 40s 17ms/step - loss: 0.0011\n",
      "\n",
      "Epoch 00017: loss improved from 0.00110 to 0.00107, saving model to D:\\CHECKPOINTS_LSTM\\weights-improvement-17-0.00.hdf5\n",
      "Epoch 18/35\n",
      "2410/2410 [==============================] - 40s 17ms/step - loss: 0.0010\n",
      "\n",
      "Epoch 00018: loss improved from 0.00107 to 0.00104, saving model to D:\\CHECKPOINTS_LSTM\\weights-improvement-18-0.00.hdf5\n",
      "Epoch 19/35\n",
      "2410/2410 [==============================] - 40s 17ms/step - loss: 0.0011\n",
      "\n",
      "Epoch 00019: loss did not improve from 0.00104\n",
      "Epoch 20/35\n",
      "2410/2410 [==============================] - 41s 17ms/step - loss: 0.0011\n",
      "\n",
      "Epoch 00020: loss did not improve from 0.00104\n",
      "Epoch 21/35\n",
      "2410/2410 [==============================] - 41s 17ms/step - loss: 9.7983e-04\n",
      "\n",
      "Epoch 00021: loss improved from 0.00104 to 0.00098, saving model to D:\\CHECKPOINTS_LSTM\\weights-improvement-21-0.00.hdf5\n",
      "Epoch 22/35\n",
      "2410/2410 [==============================] - 42s 17ms/step - loss: 0.0012\n",
      "\n",
      "Epoch 00022: loss did not improve from 0.00098\n",
      "Epoch 23/35\n",
      "2410/2410 [==============================] - 42s 17ms/step - loss: 9.4603e-04\n",
      "\n",
      "Epoch 00023: ReduceLROnPlateau reducing learning rate to 0.0001.\n",
      "\n",
      "Epoch 00023: loss improved from 0.00098 to 0.00095, saving model to D:\\CHECKPOINTS_LSTM\\weights-improvement-23-0.00.hdf5\n",
      "Epoch 24/35\n",
      "2410/2410 [==============================] - 42s 17ms/step - loss: 8.0957e-04\n",
      "\n",
      "Epoch 00024: loss improved from 0.00095 to 0.00081, saving model to D:\\CHECKPOINTS_LSTM\\weights-improvement-24-0.00.hdf5\n",
      "Epoch 25/35\n",
      "2410/2410 [==============================] - 42s 17ms/step - loss: 8.2221e-04\n",
      "\n",
      "Epoch 00025: loss did not improve from 0.00081\n",
      "Epoch 26/35\n",
      "2410/2410 [==============================] - 42s 17ms/step - loss: 7.5841e-04\n",
      "\n",
      "Epoch 00026: loss improved from 0.00081 to 0.00076, saving model to D:\\CHECKPOINTS_LSTM\\weights-improvement-26-0.00.hdf5\n",
      "Epoch 27/35\n",
      "2410/2410 [==============================] - 41s 17ms/step - loss: 7.4686e-04\n",
      "\n",
      "Epoch 00027: loss improved from 0.00076 to 0.00075, saving model to D:\\CHECKPOINTS_LSTM\\weights-improvement-27-0.00.hdf5\n",
      "Epoch 28/35\n",
      "2410/2410 [==============================] - 41s 17ms/step - loss: 7.3873e-04\n",
      "\n",
      "Epoch 00028: loss improved from 0.00075 to 0.00074, saving model to D:\\CHECKPOINTS_LSTM\\weights-improvement-28-0.00.hdf5\n",
      "Epoch 29/35\n",
      "2410/2410 [==============================] - 41s 17ms/step - loss: 7.7797e-04\n",
      "\n",
      "Epoch 00029: loss did not improve from 0.00074\n",
      "Epoch 30/35\n",
      "2410/2410 [==============================] - 40s 17ms/step - loss: 7.5185e-04\n",
      "\n",
      "Epoch 00030: loss did not improve from 0.00074\n",
      "Epoch 31/35\n",
      "2410/2410 [==============================] - 41s 17ms/step - loss: 7.0994e-04\n",
      "\n",
      "Epoch 00031: loss improved from 0.00074 to 0.00071, saving model to D:\\CHECKPOINTS_LSTM\\weights-improvement-31-0.00.hdf5\n",
      "Epoch 32/35\n",
      "2410/2410 [==============================] - 41s 17ms/step - loss: 7.6833e-04\n",
      "\n",
      "Epoch 00032: loss did not improve from 0.00071\n",
      "Epoch 33/35\n",
      "2410/2410 [==============================] - 41s 17ms/step - loss: 7.3243e-04\n",
      "\n",
      "Epoch 00033: loss did not improve from 0.00071\n",
      "Epoch 34/35\n",
      "2410/2410 [==============================] - 41s 17ms/step - loss: 7.4482e-04\n",
      "\n",
      "Epoch 00034: loss did not improve from 0.00071\n",
      "Epoch 35/35\n",
      "2410/2410 [==============================] - 41s 17ms/step - loss: 7.3321e-04\n",
      "\n",
      "Epoch 00035: loss did not improve from 0.00071\n"
     ]
    }
   ],
   "source": [
    "epochs = 35\n",
    "batch_sz = 16\n",
    "history = model.fit(X_train, y_train, \n",
    "                      epochs = epochs, \n",
    "                      batch_size = batch_sz,\n",
    "                     callbacks        = [reduce_lr,es,checkpoint])"
   ]
  },
  {
   "cell_type": "markdown",
   "metadata": {},
   "source": [
    "## Step 9 :- Validating the model\n",
    "We will now validate the model on a given sequence of stock prices. \n",
    "<div class=\"alert alert-block alert-success\">\n",
    "<b>Validation </b> \n",
    "    <br>\n",
    "1. We will validate the data on the last 519 observations.  <br>\n",
    "2. We will adjust our data accordingly to get the test data in accordance with the input format needed by the LSTM model that we fitted in step 7 \n",
    "</div>"
   ]
  },
  {
   "cell_type": "code",
   "execution_count": 10,
   "metadata": {},
   "outputs": [],
   "source": [
    "dataset_test         = sub_data_needed.iloc[2500:,:]\n",
    "real_stock_price     = dataset_test.values\n",
    "inputs = sub_data_needed[len(sub_data_needed)-len(dataset_test)-time_dep:].values\n",
    "inputs = inputs.reshape(-1,1)\n",
    "inputs = sc.transform(inputs)\n",
    "X_test = []\n",
    "for i in range(time_dep, time_dep+len(dataset_test)):\n",
    "    X_test.append(inputs[i-time_dep:i, 0])\n",
    "X_test = np.array(X_test)\n",
    "X_test = np.reshape(X_test, (X_test.shape[0], X_test.shape[1], 1))"
   ]
  },
  {
   "cell_type": "markdown",
   "metadata": {},
   "source": [
    "## Step 10 :- Performance metrics and Graphical representation"
   ]
  },
  {
   "cell_type": "code",
   "execution_count": 11,
   "metadata": {},
   "outputs": [
    {
     "name": "stdout",
     "output_type": "stream",
     "text": [
      "The R2 score between the predicted and actual values is:  0.938\n"
     ]
    }
   ],
   "source": [
    "predicted_stock_price = model.predict(X_test)\n",
    "predicted_stock_price = sc.inverse_transform(predicted_stock_price)\n",
    "print('The R2 score between the predicted and actual values is: ',round(r2_score(real_stock_price,predicted_stock_price),3))"
   ]
  },
  {
   "cell_type": "code",
   "execution_count": 12,
   "metadata": {},
   "outputs": [
    {
     "data": {
      "image/png": "[encoded data removed]",
      "text/plain": [
       "<Figure size 432x288 with 1 Axes>"
      ]
     },
     "metadata": {
      "needs_background": "light"
     },
     "output_type": "display_data"
    }
   ],
   "source": [
    "plt.plot(real_stock_price, color = 'green', label = 'Real Stock Price')\n",
    "plt.plot(predicted_stock_price, color = 'blue', label = 'Predicted Stock Price')\n",
    "plt.title('Stock Price Prediction')\n",
    "plt.xlabel('Time')\n",
    "plt.ylabel('Stock Price')\n",
    "plt.legend()\n",
    "plt.show()\n"
   ]
  },
  {
   "cell_type": "markdown",
   "metadata": {},
   "source": [
    "## Step 11: Saving the model for future reference"
   ]
  },
  {
   "cell_type": "code",
   "execution_count": 16,
   "metadata": {},
   "outputs": [],
   "source": [
    "model.save(r'D:\\tcs projects\\nifty50modelclosing\\lstm_closing.h5')"
   ]
  },
  {
   "cell_type": "code",
   "execution_count": null,
   "metadata": {},
   "outputs": [],
   "source": []
  }
 ],
 "metadata": {
  "kernelspec": {
   "display_name": "Python 3",
   "language": "python",
   "name": "python3"
  },
  "language_info": {
   "codemirror_mode": {
    "name": "ipython",
    "version": 3
   },
   "file_extension": ".py",
   "mimetype": "text/x-python",
   "name": "python",
   "nbconvert_exporter": "python",
   "pygments_lexer": "ipython3",
   "version": "3.7.4"
  }
 },
 "nbformat": 4,
 "nbformat_minor": 2
}
