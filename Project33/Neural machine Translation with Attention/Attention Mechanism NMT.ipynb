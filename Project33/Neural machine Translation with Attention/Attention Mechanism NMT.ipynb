{
 "cells": [
  {
   "cell_type": "code",
   "execution_count": 24,
   "metadata": {},
   "outputs": [],
   "source": [
    "import tensorflow as tf\n",
    "tf.compat.v1.enable_eager_execution()\n",
    "from keras.preprocessing.sequence import pad_sequences\n",
    "from keras.utils import to_categorical\n",
    "import matplotlib.pyplot as plt\n",
    "import matplotlib.ticker as ticker\n",
    "from sklearn.model_selection import train_test_split\n",
    "import re\n",
    "import pandas as pd\n",
    "import numpy as np\n",
    "import os\n",
    "from random import shuffle\n",
    "import time \n",
    "import random"
   ]
  },
  {
   "cell_type": "markdown",
   "metadata": {},
   "source": [
    "<div class=\"alert alert-block alert-success\">\n",
    "    We have the dataset in form of a txt file. We will read it in a format that will make seperation of each individual english to Spanish translations easy <br><br>\n",
    "<b>The dataset is loaded from the site :- https://www.manythings.org/anki/ </b>\n",
    "</div>\n"
   ]
  },
  {
   "cell_type": "code",
   "execution_count": 2,
   "metadata": {},
   "outputs": [
    {
     "name": "stdout",
     "output_type": "stream",
     "text": [
      "[['Go.', 'Vete.'], ['Go.', 'Vaya.'], ['Go.', 'Váyase.'], ['Hi.', 'Hola.'], ['Run!', '¡Corre!'], ['Run!', '¡Corran!'], ['Run!', '¡Corra!'], ['Run!', '¡Corred!'], ['Run.', 'Corred.']]\n",
      "Punctuations removed and all the sentences converted to smaller case.\n",
      "Example of preprocessed English Sentence is :-  <start> i remember <end>\n",
      "Example of preprocessed Spanish Sentence is :-  <start> lo recuerdo <end>\n"
     ]
    }
   ],
   "source": [
    "input_file_path     = r'D:\\kaggle_trials\\spanish2english\\spa.txt'\n",
    "file                = open(input_file_path,mode = 'rt',encoding='utf-8')\n",
    "text_to_read        = file.read()\n",
    "file.close()\n",
    "lines               = text_to_read.strip().split('\\n')\n",
    "text_translate      = [line.split('\\t') for line in  lines]\n",
    "print(text_translate[1:10])\n",
    "clean_text_translated         = []\n",
    "for i in range(len(text_translate)):\n",
    "    text_pair                 = text_translate[i]\n",
    "    eng_text                  = text_pair[0]\n",
    "    spanish_text              = text_pair[1]\n",
    "    \n",
    "    eng_text_split            = eng_text.split()\n",
    "    spanish_text_split        = spanish_text.split()\n",
    "    \n",
    "    eng_text_punc_removed     = ' '.join([re.sub('[^A-Za-z]+', '', eng_text_split[i]) for i in range(len(eng_text_split))])\n",
    "    spanish_text_punc_removed = ' '.join([re.sub('[^A-Za-z]+', '', spanish_text_split[i]) for i in range(len(spanish_text_split))])\n",
    "    \n",
    "    eng_text_nums_removed     = ' '.join([word.lower() for word in eng_text_punc_removed.split() if word.isalpha()])\n",
    "    spanish_text_nums_removed = ' '.join([word.lower() for word in spanish_text_punc_removed.split() if word.isalpha()])\n",
    "    \n",
    "    eng_text_final            = '<start> '+eng_text_nums_removed + ' <end>'\n",
    "    spanish_text_final        = '<start> '+spanish_text_nums_removed + ' <end>'\n",
    "    clean_text_translated.append([eng_text_final,spanish_text_final])\n",
    "clean_text_translated         = np.array(clean_text_translated)\n",
    "print('Punctuations removed and all the sentences converted to smaller case.')\n",
    "print('Example of preprocessed English Sentence is :- ',clean_text_translated[1200][0])\n",
    "print('Example of preprocessed Spanish Sentence is :- ',clean_text_translated[1200][1])"
   ]
  },
  {
   "cell_type": "code",
   "execution_count": 3,
   "metadata": {},
   "outputs": [],
   "source": [
    "clean_text_translated     = clean_text_translated[:10000]\n",
    "eng_target_statement      = clean_text_translated[:,0]\n",
    "eng_lang_tokenizer        = tf.keras.preprocessing.text.Tokenizer(filters='')\n",
    "eng_lang_tokenizer.fit_on_texts(eng_target_statement)\n",
    "eng_tensor_tokenized      = eng_lang_tokenizer.texts_to_sequences(eng_target_statement)\n",
    "tensor_english            = tf.keras.preprocessing.sequence.pad_sequences(eng_tensor_tokenized,padding='post')\n"
   ]
  },
  {
   "cell_type": "code",
   "execution_count": 4,
   "metadata": {},
   "outputs": [],
   "source": [
    "spanish_input_statement   = clean_text_translated[:,1]\n",
    "spanish_lang_tokenizer    = tf.keras.preprocessing.text.Tokenizer(filters='')\n",
    "spanish_lang_tokenizer.fit_on_texts(spanish_input_statement)\n",
    "spanish_tensor_tokenized  = spanish_lang_tokenizer.texts_to_sequences(spanish_input_statement)\n",
    "tensor_spanish            = tf.keras.preprocessing.sequence.pad_sequences(spanish_tensor_tokenized,padding='post')\n"
   ]
  },
  {
   "cell_type": "code",
   "execution_count": 5,
   "metadata": {},
   "outputs": [],
   "source": [
    "input_tensor_train, input_tensor_val, target_tensor_train, target_tensor_val = train_test_split(tensor_spanish, tensor_english, test_size=0.2)\n",
    "max_length_targ = input_tensor_val.shape[1]\n",
    "max_length_inp  = input_tensor_train.shape[1]"
   ]
  },
  {
   "cell_type": "markdown",
   "metadata": {},
   "source": [
    "\n",
    "<div class=\"alert alert-block alert-success\">\n",
    "    <b> Encoder state :</b> The encoder state will consist of a GRU which will output the hidden layer and cell state to be used in the Decoder. We will also initialize the hidden state with zeros dependig upon the batch size to be input into the GRU at one epoch and the embedding dimension.\n",
    "</div>\n"
   ]
  },
  {
   "cell_type": "code",
   "execution_count": 6,
   "metadata": {},
   "outputs": [],
   "source": [
    "class Encoder(tf.keras.Model):\n",
    "    def __init__(self, vocab_size, embedding_dim, enc_units, batch_sz):\n",
    "        super(Encoder, self).__init__()\n",
    "        self.batch_sz = batch_sz\n",
    "        self.enc_units = enc_units\n",
    "        self.embedding = tf.keras.layers.Embedding(vocab_size, embedding_dim)\n",
    "        self.gru = tf.keras.layers.GRU(self.enc_units,return_sequences=True,return_state=True,recurrent_initializer='glorot_uniform')\n",
    "\n",
    "    def call(self, x, hidden):\n",
    "        x = self.embedding(x)\n",
    "        output, state = self.gru(x, initial_state = hidden)\n",
    "        return output, state\n",
    "\n",
    "    def initialize_hidden_state(self):\n",
    "        return tf.zeros((self.batch_sz, self.enc_units))"
   ]
  },
  {
   "cell_type": "markdown",
   "metadata": {},
   "source": [
    "\n",
    "<div class=\"alert alert-block alert-success\">\n",
    "    <b> Attention Cell state : </b> Here we will create one attention layer which will take into account the dense layers W1,W2 and V as explained in the paper. The layers in W1 and W2 will be of dimensions specified by the user in form of units(decoder units). Also it will output the attention weights and the context vector obtained by multiplying the attention weights with the encoder output(hidden state) \n",
    "</div>\n"
   ]
  },
  {
   "cell_type": "code",
   "execution_count": 7,
   "metadata": {},
   "outputs": [],
   "source": [
    "class BahdanauAttention(tf.keras.Model):\n",
    "    def __init__(self, units):\n",
    "        super(BahdanauAttention, self).__init__()\n",
    "        self.W1 = tf.keras.layers.Dense(units)\n",
    "        self.W2 = tf.keras.layers.Dense(units)\n",
    "        self.V = tf.keras.layers.Dense(1)\n",
    "\n",
    "    def call(self, query, values):\n",
    "        hidden_with_time_axis = tf.expand_dims(query, 1)\n",
    "        score                 = self.V(tf.nn.tanh(self.W1(values) + self.W2(hidden_with_time_axis)))\n",
    "        attention_weights     = tf.nn.softmax(score, axis=1)\n",
    "        context_vector        = attention_weights * values\n",
    "        context_vector        = tf.reduce_sum(context_vector, axis=1)\n",
    "        return context_vector, attention_weights\n"
   ]
  },
  {
   "cell_type": "markdown",
   "metadata": {},
   "source": [
    "\n",
    "<div class=\"alert alert-block alert-success\">\n",
    "    <b> Decoder : </b> We will use the output provided by the encoder and then call the Attention class to get the context and use it to decode the output\n",
    "</div>\n"
   ]
  },
  {
   "cell_type": "code",
   "execution_count": 8,
   "metadata": {},
   "outputs": [],
   "source": [
    "class Decoder(tf.keras.Model):\n",
    "    def __init__(self, vocab_size, embedding_dim, dec_units, batch_sz):\n",
    "        super(Decoder, self).__init__()\n",
    "        self.batch_sz  = batch_sz\n",
    "        self.dec_units = dec_units\n",
    "        self.embedding = tf.keras.layers.Embedding(vocab_size, embedding_dim)\n",
    "        self.gru       = tf.keras.layers.GRU(self.dec_units,return_sequences=True,return_state=True,recurrent_initializer='glorot_uniform')\n",
    "        self.fc        = tf.keras.layers.Dense(vocab_size)\n",
    "        self.attention = BahdanauAttention(self.dec_units)\n",
    "\n",
    "    def call(self, x, hidden, enc_output):\n",
    "        context_vector, attention_weights = self.attention(hidden, enc_output)\n",
    "        x                                 = self.embedding(x)\n",
    "        x                                 = tf.concat([tf.expand_dims(context_vector, 1), x], axis=-1)\n",
    "        output, state                     = self.gru(x)\n",
    "        output                            = tf.reshape(output, (-1, output.shape[2]))\n",
    "        x                                 = self.fc(output)\n",
    "        return x, state, attention_weights\n"
   ]
  },
  {
   "cell_type": "code",
   "execution_count": 2,
   "metadata": {},
   "outputs": [
    {
     "ename": "NameError",
     "evalue": "name 'input_tensor_train' is not defined",
     "output_type": "error",
     "traceback": [
      "\u001b[1;31m---------------------------------------------------------------------------\u001b[0m",
      "\u001b[1;31mNameError\u001b[0m                                 Traceback (most recent call last)",
      "\u001b[1;32m<ipython-input-2-39c9b4c1d31e>\u001b[0m in \u001b[0;36m<module>\u001b[1;34m\u001b[0m\n\u001b[1;32m----> 1\u001b[1;33m \u001b[0mBUFFER_SIZE\u001b[0m     \u001b[1;33m=\u001b[0m \u001b[0mlen\u001b[0m\u001b[1;33m(\u001b[0m\u001b[0minput_tensor_train\u001b[0m\u001b[1;33m)\u001b[0m\u001b[1;33m\u001b[0m\u001b[1;33m\u001b[0m\u001b[0m\n\u001b[0m\u001b[0;32m      2\u001b[0m \u001b[0mBATCH_SIZE\u001b[0m      \u001b[1;33m=\u001b[0m \u001b[1;36m64\u001b[0m\u001b[1;33m\u001b[0m\u001b[1;33m\u001b[0m\u001b[0m\n\u001b[0;32m      3\u001b[0m \u001b[0msteps_per_epoch\u001b[0m \u001b[1;33m=\u001b[0m \u001b[0mlen\u001b[0m\u001b[1;33m(\u001b[0m\u001b[0minput_tensor_train\u001b[0m\u001b[1;33m)\u001b[0m\u001b[1;33m//\u001b[0m\u001b[0mBATCH_SIZE\u001b[0m\u001b[1;33m\u001b[0m\u001b[1;33m\u001b[0m\u001b[0m\n\u001b[0;32m      4\u001b[0m \u001b[0membedding_dim\u001b[0m   \u001b[1;33m=\u001b[0m \u001b[1;36m256\u001b[0m\u001b[1;33m\u001b[0m\u001b[1;33m\u001b[0m\u001b[0m\n\u001b[0;32m      5\u001b[0m \u001b[0munits\u001b[0m           \u001b[1;33m=\u001b[0m \u001b[1;36m1024\u001b[0m\u001b[1;33m\u001b[0m\u001b[1;33m\u001b[0m\u001b[0m\n",
      "\u001b[1;31mNameError\u001b[0m: name 'input_tensor_train' is not defined"
     ]
    }
   ],
   "source": [
    "BUFFER_SIZE     = len(input_tensor_train)\n",
    "BATCH_SIZE      = 64\n",
    "steps_per_epoch = len(input_tensor_train)//BATCH_SIZE\n",
    "embedding_dim   = 256\n",
    "units           = 1024\n",
    "vocab_inp_size  = len(spanish_lang_tokenizer.word_index)+1\n",
    "vocab_tar_size  = len(eng_lang_tokenizer.word_index)+1\n",
    "dataset         = tf.data.Dataset.from_tensor_slices((input_tensor_train, target_tensor_train)).shuffle(BUFFER_SIZE)\n",
    "dataset         = dataset.batch(BATCH_SIZE, drop_remainder=True)"
   ]
  },
  {
   "cell_type": "code",
   "execution_count": 1,
   "metadata": {},
   "outputs": [
    {
     "ename": "NameError",
     "evalue": "name 'dataset' is not defined",
     "output_type": "error",
     "traceback": [
      "\u001b[1;31m---------------------------------------------------------------------------\u001b[0m",
      "\u001b[1;31mNameError\u001b[0m                                 Traceback (most recent call last)",
      "\u001b[1;32m<ipython-input-1-28bcdb854760>\u001b[0m in \u001b[0;36m<module>\u001b[1;34m\u001b[0m\n\u001b[1;32m----> 1\u001b[1;33m \u001b[0mexample_input_batch\u001b[0m\u001b[1;33m,\u001b[0m \u001b[0mexample_target_batch\u001b[0m \u001b[1;33m=\u001b[0m \u001b[0mnext\u001b[0m\u001b[1;33m(\u001b[0m\u001b[0miter\u001b[0m\u001b[1;33m(\u001b[0m\u001b[0mdataset\u001b[0m\u001b[1;33m)\u001b[0m\u001b[1;33m)\u001b[0m\u001b[1;33m\u001b[0m\u001b[1;33m\u001b[0m\u001b[0m\n\u001b[0m\u001b[0;32m      2\u001b[0m \u001b[0mencoder\u001b[0m \u001b[1;33m=\u001b[0m \u001b[0mEncoder\u001b[0m\u001b[1;33m(\u001b[0m\u001b[0mvocab_inp_size\u001b[0m\u001b[1;33m,\u001b[0m \u001b[0membedding_dim\u001b[0m\u001b[1;33m,\u001b[0m \u001b[0munits\u001b[0m\u001b[1;33m,\u001b[0m \u001b[0mBATCH_SIZE\u001b[0m\u001b[1;33m)\u001b[0m\u001b[1;33m\u001b[0m\u001b[1;33m\u001b[0m\u001b[0m\n\u001b[0;32m      3\u001b[0m \u001b[1;33m\u001b[0m\u001b[0m\n\u001b[0;32m      4\u001b[0m \u001b[1;31m# sample input\u001b[0m\u001b[1;33m\u001b[0m\u001b[1;33m\u001b[0m\u001b[1;33m\u001b[0m\u001b[0m\n\u001b[0;32m      5\u001b[0m \u001b[0msample_hidden\u001b[0m \u001b[1;33m=\u001b[0m \u001b[0mencoder\u001b[0m\u001b[1;33m.\u001b[0m\u001b[0minitialize_hidden_state\u001b[0m\u001b[1;33m(\u001b[0m\u001b[1;33m)\u001b[0m\u001b[1;33m\u001b[0m\u001b[1;33m\u001b[0m\u001b[0m\n",
      "\u001b[1;31mNameError\u001b[0m: name 'dataset' is not defined"
     ]
    }
   ],
   "source": [
    "example_input_batch, example_target_batch = next(iter(dataset))\n",
    "encoder = Encoder(vocab_inp_size, embedding_dim, units, BATCH_SIZE)\n",
    "\n",
    "# sample input\n",
    "sample_hidden = encoder.initialize_hidden_state()\n",
    "sample_output, sample_hidden = encoder(example_input_batch, sample_hidden)\n",
    "print ('Encoder output shape: (batch size, sequence length, units) {}'.format(sample_output.shape))\n",
    "print ('Encoder Hidden state shape: (batch size, units) {}'.format(sample_hidden.shape))\n",
    "# attention_layer = BahdanauAttention(10)\n",
    "# attention_result, attention_weights = attention_layer(sample_hidden, sample_output)\n",
    "\n",
    "# print(\"Attention result shape: (batch size, units) {}\".format(attention_result.shape))\n",
    "# print(\"Attention weights shape: (batch_size, sequence_length, 1) {}\".format(attention_weights.shape))\n",
    "# decoder = Decoder(vocab_tar_size, embedding_dim, units, BATCH_SIZE)\n",
    "\n",
    "# sample_decoder_output, _, _ = decoder(tf.random.uniform((64, 1)),\n",
    "#                                       sample_hidden, sample_output)\n",
    "\n",
    "# print ('Decoder output shape: (batch_size, vocab size) {}'.format(sample_decoder_output.shape))"
   ]
  },
  {
   "cell_type": "markdown",
   "metadata": {},
   "source": [
    "\n",
    "<div class=\"alert alert-block alert-success\">\n",
    "    <b> Loss function to be used in Teacher Forcing: </b> We create a loss function here to compute losses \n",
    "</div>\n"
   ]
  },
  {
   "cell_type": "code",
   "execution_count": 11,
   "metadata": {},
   "outputs": [],
   "source": [
    "optimizer   = tf.keras.optimizers.Adam()\n",
    "loss_object = tf.keras.losses.SparseCategoricalCrossentropy(from_logits=True, reduction='none')\n",
    "\n",
    "def loss_function(real, pred):\n",
    "    mask   = tf.math.logical_not(tf.math.equal(real, 0))\n",
    "    loss_  = loss_object(real, pred)\n",
    "    mask   = tf.cast(mask, dtype=loss_.dtype)\n",
    "    loss_ *= mask\n",
    "    return tf.reduce_mean(loss_)"
   ]
  },
  {
   "cell_type": "markdown",
   "metadata": {},
   "source": [
    "\n",
    "<div class=\"alert alert-block alert-success\">\n",
    "    <b> Teacher Forcing and training : </b> We train our model here and we will be using Teacher forcing where the input to the decoder at each time step is its previous predictions along with the hidden state and the encoder output.\n",
    "</div>\n"
   ]
  },
  {
   "cell_type": "code",
   "execution_count": 12,
   "metadata": {},
   "outputs": [],
   "source": [
    "@tf.function\n",
    "def train_step(inp, targ, enc_hidden):\n",
    "    loss = 0\n",
    "    with tf.GradientTape() as tape:\n",
    "        enc_output, enc_hidden     = encoder(inp, enc_hidden)\n",
    "        dec_hidden                 = enc_hidden\n",
    "        dec_input                  = tf.expand_dims([eng_lang_tokenizer.word_index['<start>']] * BATCH_SIZE, 1)\n",
    "        for t in range(1, targ.shape[1]):\n",
    "            predictions, dec_hidden, _ = decoder(dec_input, dec_hidden, enc_output)\n",
    "            loss += loss_function(targ[:, t], predictions)\n",
    "            dec_input                  = tf.expand_dims(targ[:, t], 1)\n",
    "\n",
    "    batch_loss                     = (loss / int(targ.shape[1]))\n",
    "    variables                      = encoder.trainable_variables + decoder.trainable_variables\n",
    "    #print(variables)\n",
    "    gradients                      = tape.gradient(loss, variables)\n",
    "    #print(gradients)\n",
    "    optimizer.apply_gradients(zip(gradients, variables))\n",
    "    return batch_loss"
   ]
  },
  {
   "cell_type": "markdown",
   "metadata": {},
   "source": [
    "\n",
    "<div class=\"alert alert-block alert-success\">\n",
    "    <b>Performing Training : </b> We start training our model here using all the classes mentioned above\n",
    "</div>\n"
   ]
  },
  {
   "cell_type": "code",
   "execution_count": 13,
   "metadata": {},
   "outputs": [],
   "source": [
    "encoder = Encoder(vocab_inp_size, embedding_dim, units, BATCH_SIZE)\n",
    "decoder = Decoder(vocab_tar_size, embedding_dim, units, BATCH_SIZE)"
   ]
  },
  {
   "cell_type": "code",
   "execution_count": 14,
   "metadata": {},
   "outputs": [],
   "source": [
    "checkpoint_dir    = r'D:\\training_checkpoints'\n",
    "checkpoint_prefix = os.path.join(checkpoint_dir, \"ckpt\")\n",
    "checkpoint        = tf.train.Checkpoint(optimizer=optimizer,\n",
    "                                 encoder=encoder,\n",
    "                                 decoder=decoder)"
   ]
  },
  {
   "cell_type": "code",
   "execution_count": 15,
   "metadata": {},
   "outputs": [
    {
     "name": "stdout",
     "output_type": "stream",
     "text": [
      "Epoch 1 Batch 0 Loss 4.1347\n",
      "Epoch 1 Batch 100 Loss 2.3982\n",
      "Epoch 1 Loss 2.6719\n",
      "Time taken for 1 epoch 21.68782615661621 sec\n",
      "\n",
      "Epoch 2 Batch 0 Loss 2.2504\n",
      "Epoch 2 Batch 100 Loss 2.1083\n",
      "Epoch 2 Loss 2.1093\n",
      "Time taken for 1 epoch 12.382484197616577 sec\n",
      "\n",
      "Epoch 3 Batch 0 Loss 1.8786\n",
      "Epoch 3 Batch 100 Loss 1.7688\n",
      "Epoch 3 Loss 1.7895\n",
      "Time taken for 1 epoch 9.947962284088135 sec\n",
      "\n",
      "Epoch 4 Batch 0 Loss 1.4915\n",
      "Epoch 4 Batch 100 Loss 1.4484\n",
      "Epoch 4 Loss 1.5170\n",
      "Time taken for 1 epoch 12.360455989837646 sec\n",
      "\n",
      "Epoch 5 Batch 0 Loss 1.1549\n",
      "Epoch 5 Batch 100 Loss 1.2248\n",
      "Epoch 5 Loss 1.2750\n",
      "Time taken for 1 epoch 9.986894845962524 sec\n",
      "\n",
      "Epoch 6 Batch 0 Loss 0.9722\n",
      "Epoch 6 Batch 100 Loss 1.1004\n",
      "Epoch 6 Loss 1.0520\n",
      "Time taken for 1 epoch 12.138469457626343 sec\n",
      "\n",
      "Epoch 7 Batch 0 Loss 0.8444\n",
      "Epoch 7 Batch 100 Loss 0.9013\n",
      "Epoch 7 Loss 0.8440\n",
      "Time taken for 1 epoch 9.985242128372192 sec\n",
      "\n",
      "Epoch 8 Batch 0 Loss 0.6904\n",
      "Epoch 8 Batch 100 Loss 0.6106\n",
      "Epoch 8 Loss 0.6526\n",
      "Time taken for 1 epoch 12.231571435928345 sec\n",
      "\n",
      "Epoch 9 Batch 0 Loss 0.4406\n",
      "Epoch 9 Batch 100 Loss 0.6079\n",
      "Epoch 9 Loss 0.4940\n",
      "Time taken for 1 epoch 9.981916904449463 sec\n",
      "\n",
      "Epoch 10 Batch 0 Loss 0.4072\n",
      "Epoch 10 Batch 100 Loss 0.3664\n",
      "Epoch 10 Loss 0.3572\n",
      "Time taken for 1 epoch 12.499986410140991 sec\n",
      "\n",
      "Epoch 11 Batch 0 Loss 0.1897\n",
      "Epoch 11 Batch 100 Loss 0.3266\n",
      "Epoch 11 Loss 0.2579\n",
      "Time taken for 1 epoch 9.980301141738892 sec\n",
      "\n",
      "Epoch 12 Batch 0 Loss 0.1597\n",
      "Epoch 12 Batch 100 Loss 0.2177\n",
      "Epoch 12 Loss 0.1933\n",
      "Time taken for 1 epoch 12.279273271560669 sec\n",
      "\n",
      "Epoch 13 Batch 0 Loss 0.1216\n",
      "Epoch 13 Batch 100 Loss 0.1242\n",
      "Epoch 13 Loss 0.1482\n",
      "Time taken for 1 epoch 9.98276686668396 sec\n",
      "\n",
      "Epoch 14 Batch 0 Loss 0.1134\n",
      "Epoch 14 Batch 100 Loss 0.1322\n",
      "Epoch 14 Loss 0.1203\n",
      "Time taken for 1 epoch 12.217418432235718 sec\n",
      "\n",
      "Epoch 15 Batch 0 Loss 0.0870\n",
      "Epoch 15 Batch 100 Loss 0.0932\n",
      "Epoch 15 Loss 0.1041\n",
      "Time taken for 1 epoch 9.9998619556427 sec\n",
      "\n",
      "Epoch 16 Batch 0 Loss 0.0686\n",
      "Epoch 16 Batch 100 Loss 0.1123\n",
      "Epoch 16 Loss 0.0904\n",
      "Time taken for 1 epoch 12.127207517623901 sec\n",
      "\n",
      "Epoch 17 Batch 0 Loss 0.0816\n",
      "Epoch 17 Batch 100 Loss 0.1035\n",
      "Epoch 17 Loss 0.0871\n",
      "Time taken for 1 epoch 10.005006313323975 sec\n",
      "\n",
      "Epoch 18 Batch 0 Loss 0.0421\n",
      "Epoch 18 Batch 100 Loss 0.1215\n",
      "Epoch 18 Loss 0.0786\n",
      "Time taken for 1 epoch 12.618812322616577 sec\n",
      "\n",
      "Epoch 19 Batch 0 Loss 0.0720\n",
      "Epoch 19 Batch 100 Loss 0.0992\n",
      "Epoch 19 Loss 0.0774\n",
      "Time taken for 1 epoch 10.028371334075928 sec\n",
      "\n",
      "Epoch 20 Batch 0 Loss 0.0382\n",
      "Epoch 20 Batch 100 Loss 0.1135\n",
      "Epoch 20 Loss 0.0739\n",
      "Time taken for 1 epoch 12.15717601776123 sec\n",
      "\n",
      "Epoch 21 Batch 0 Loss 0.0413\n",
      "Epoch 21 Batch 100 Loss 0.0855\n",
      "Epoch 21 Loss 0.0725\n",
      "Time taken for 1 epoch 10.014173746109009 sec\n",
      "\n",
      "Epoch 22 Batch 0 Loss 0.0701\n",
      "Epoch 22 Batch 100 Loss 0.0749\n",
      "Epoch 22 Loss 0.0703\n",
      "Time taken for 1 epoch 12.367420673370361 sec\n",
      "\n",
      "Epoch 23 Batch 0 Loss 0.0453\n",
      "Epoch 23 Batch 100 Loss 0.0465\n",
      "Epoch 23 Loss 0.0658\n",
      "Time taken for 1 epoch 10.006566762924194 sec\n",
      "\n",
      "Epoch 24 Batch 0 Loss 0.0853\n",
      "Epoch 24 Batch 100 Loss 0.0797\n",
      "Epoch 24 Loss 0.0650\n",
      "Time taken for 1 epoch 12.076141834259033 sec\n",
      "\n",
      "Epoch 25 Batch 0 Loss 0.0392\n",
      "Epoch 25 Batch 100 Loss 0.0848\n",
      "Epoch 25 Loss 0.0595\n",
      "Time taken for 1 epoch 10.016281127929688 sec\n",
      "\n",
      "Epoch 26 Batch 0 Loss 0.0550\n",
      "Epoch 26 Batch 100 Loss 0.0536\n",
      "Epoch 26 Loss 0.0614\n",
      "Time taken for 1 epoch 12.315858840942383 sec\n",
      "\n",
      "Epoch 27 Batch 0 Loss 0.0354\n",
      "Epoch 27 Batch 100 Loss 0.0501\n",
      "Epoch 27 Loss 0.0587\n",
      "Time taken for 1 epoch 10.018686056137085 sec\n",
      "\n",
      "Epoch 28 Batch 0 Loss 0.0505\n",
      "Epoch 28 Batch 100 Loss 0.0457\n",
      "Epoch 28 Loss 0.0564\n",
      "Time taken for 1 epoch 12.1985764503479 sec\n",
      "\n",
      "Epoch 29 Batch 0 Loss 0.0182\n",
      "Epoch 29 Batch 100 Loss 0.0706\n",
      "Epoch 29 Loss 0.0596\n",
      "Time taken for 1 epoch 10.01641035079956 sec\n",
      "\n",
      "Epoch 30 Batch 0 Loss 0.0351\n",
      "Epoch 30 Batch 100 Loss 0.0645\n",
      "Epoch 30 Loss 0.0571\n",
      "Time taken for 1 epoch 12.169676780700684 sec\n",
      "\n"
     ]
    }
   ],
   "source": [
    "EPOCHS = 30\n",
    "\n",
    "for epoch in range(EPOCHS):\n",
    "    start = time.time()\n",
    "    enc_hidden = encoder.initialize_hidden_state()\n",
    "    total_loss = 0\n",
    "    for (batch, (inp, targ)) in enumerate(dataset.take(steps_per_epoch)):\n",
    "        batch_loss = train_step(inp, targ, enc_hidden)\n",
    "        total_loss += batch_loss\n",
    "        if batch % 100 == 0:\n",
    "            print('Epoch {} Batch {} Loss {:.4f}'.format(epoch + 1,batch,batch_loss.numpy()))\n",
    "    if (epoch + 1) % 2 == 0:\n",
    "        checkpoint.save(file_prefix = checkpoint_prefix)\n",
    "    print('Epoch {} Loss {:.4f}'.format(epoch + 1,total_loss / steps_per_epoch))\n",
    "    print('Time taken for 1 epoch {} sec\\n'.format(time.time() - start))"
   ]
  },
  {
   "cell_type": "code",
   "execution_count": 16,
   "metadata": {},
   "outputs": [],
   "source": [
    "def evaluate(sentence):\n",
    "    attention_plot = np.zeros((max_length_targ, max_length_inp))\n",
    "\n",
    "    spanish_text_split        = sentence.split()\n",
    "    spanish_text_punc_removed = ' '.join([re.sub('[^A-Za-z]+', '', spanish_text_split[i]) for i in range(len(spanish_text_split))])\n",
    "    spanish_text_nums_removed = ' '.join([word.lower() for word in spanish_text_punc_removed.split() if word.isalpha()])\n",
    "    sentence                  = '<start> '+spanish_text_nums_removed + ' <end>'\n",
    "    inputs = [spanish_lang_tokenizer.word_index[i] for i in sentence.split(' ')]\n",
    "    inputs = tf.keras.preprocessing.sequence.pad_sequences([inputs],\n",
    "                                                       maxlen=input_tensor_train.shape[1],\n",
    "                                                       padding='post')\n",
    "    inputs = tf.convert_to_tensor(inputs)\n",
    "    result = ''\n",
    "\n",
    "    hidden = [tf.zeros((1, units))]\n",
    "    enc_out, enc_hidden = encoder(inputs, hidden)\n",
    "\n",
    "    dec_hidden = enc_hidden\n",
    "    dec_input = tf.expand_dims([eng_lang_tokenizer.word_index['<start>']], 0)\n",
    "\n",
    "    for t in range(input_tensor_val.shape[1]):\n",
    "        predictions, dec_hidden, attention_weights = decoder(dec_input,\n",
    "                                                             dec_hidden,\n",
    "                                                             enc_out)\n",
    "\n",
    "        # storing the attention weights to plot later on\n",
    "        attention_weights = tf.reshape(attention_weights, (-1, ))\n",
    "        attention_plot[t] = attention_weights.numpy()\n",
    "\n",
    "        predicted_id = tf.argmax(predictions[0]).numpy()\n",
    "\n",
    "        result += eng_lang_tokenizer.index_word[predicted_id] + ' '\n",
    "\n",
    "        if eng_lang_tokenizer.index_word[predicted_id] == '<end>':\n",
    "            return result, sentence, attention_plot\n",
    "\n",
    "        # the predicted ID is fed back into the model\n",
    "        dec_input = tf.expand_dims([predicted_id], 0)\n",
    "\n",
    "    return result, sentence, attention_plot"
   ]
  },
  {
   "cell_type": "code",
   "execution_count": 17,
   "metadata": {},
   "outputs": [],
   "source": [
    "def plot_attention(attention, sentence, predicted_sentence):\n",
    "    fig = plt.figure(figsize=(10,10))\n",
    "    ax = fig.add_subplot(1, 1, 1)\n",
    "    ax.matshow(attention, cmap='viridis')\n",
    "\n",
    "    fontdict = {'fontsize': 14}\n",
    "\n",
    "    ax.set_xticklabels([''] + sentence, fontdict=fontdict, rotation=90)\n",
    "    ax.set_yticklabels([''] + predicted_sentence, fontdict=fontdict)\n",
    "\n",
    "    ax.xaxis.set_major_locator(ticker.MultipleLocator(1))\n",
    "    ax.yaxis.set_major_locator(ticker.MultipleLocator(1))\n",
    "\n",
    "    plt.show()"
   ]
  },
  {
   "cell_type": "code",
   "execution_count": 27,
   "metadata": {},
   "outputs": [],
   "source": [
    "def translate(sentence,actual):\n",
    "    result, sentence, attention_plot = evaluate(sentence)\n",
    "\n",
    "    print('Input: %s' % (sentence))\n",
    "    print('Actual Translation :- ',actual)\n",
    "    print('Predicted translation: {}'.format(result))\n",
    "\n",
    "    attention_plot = attention_plot[:len(result.split(' ')), :len(sentence.split(' '))]\n",
    "    plot_attention(attention_plot, sentence.split(' '), result.split(' '))"
   ]
  },
  {
   "cell_type": "code",
   "execution_count": 41,
   "metadata": {},
   "outputs": [],
   "source": [
    "def generate_translation_randomly():\n",
    "    word_index_dictionary_inputs = spanish_lang_tokenizer.word_index\n",
    "    index_word_dictionary        =  {v: k for k, v in word_index_dictionary_inputs.items()}\n",
    "\n",
    "    eng_word_index_dictionary_inputs = eng_lang_tokenizer.word_index\n",
    "    eng_index_word_dictionary        =  {v: k for k, v in eng_word_index_dictionary_inputs.items()}\n",
    "\n",
    "    j = random.randint(0,2000)\n",
    "    spanish_sentence_list = [index_word_dictionary[i] if i>0 else '' for i in input_tensor_val[j] ] \n",
    "    input_sent = ' '.join(spanish_sentence_list)\n",
    "    input_sent = input_sent.replace('<end>','').replace('<start>','')\n",
    "\n",
    "\n",
    "    english_sentence_list = [eng_index_word_dictionary[i] if i>0 else '' for i in target_tensor_val[j]] \n",
    "    input_sent_eng = ' '.join(english_sentence_list)\n",
    "    input_sent_eng = input_sent_eng.replace('<end>','').replace('<start>','')\n",
    "\n",
    "    translate(input_sent.strip(),input_sent_eng.strip())"
   ]
  },
  {
   "cell_type": "code",
   "execution_count": 49,
   "metadata": {},
   "outputs": [
    {
     "name": "stdout",
     "output_type": "stream",
     "text": [
      "Input: <start> ya vers <end>\n",
      "Actual Translation :-  you will see\n",
      "Predicted translation: youll see <end> \n"
     ]
    },
    {
     "data": {
      "image/png": "[encoded data removed]",
      "text/plain": [
       "<Figure size 720x720 with 1 Axes>"
      ]
     },
     "metadata": {
      "needs_background": "light"
     },
     "output_type": "display_data"
    }
   ],
   "source": [
    "generate_translation_randomly()"
   ]
  },
  {
   "cell_type": "code",
   "execution_count": 50,
   "metadata": {},
   "outputs": [
    {
     "name": "stdout",
     "output_type": "stream",
     "text": [
      "Input: <start> mira de cerca <end>\n",
      "Actual Translation :-  look closely\n",
      "Predicted translation: watch closely <end> \n"
     ]
    },
    {
     "data": {
      "image/png": "[encoded data removed]",
      "text/plain": [
       "<Figure size 720x720 with 1 Axes>"
      ]
     },
     "metadata": {
      "needs_background": "light"
     },
     "output_type": "display_data"
    }
   ],
   "source": [
    "generate_translation_randomly()"
   ]
  },
  {
   "cell_type": "code",
   "execution_count": 51,
   "metadata": {},
   "outputs": [
    {
     "name": "stdout",
     "output_type": "stream",
     "text": [
      "Input: <start> estn listos <end>\n",
      "Actual Translation :-  are you ready\n",
      "Predicted translation: theyre smart <end> \n"
     ]
    },
    {
     "data": {
      "image/png": "[encoded data removed]",
      "text/plain": [
       "<Figure size 720x720 with 1 Axes>"
      ]
     },
     "metadata": {
      "needs_background": "light"
     },
     "output_type": "display_data"
    }
   ],
   "source": [
    "generate_translation_randomly()"
   ]
  },
  {
   "cell_type": "code",
   "execution_count": null,
   "metadata": {},
   "outputs": [],
   "source": []
  }
 ],
 "metadata": {
  "kernelspec": {
   "display_name": "Python 3",
   "language": "python",
   "name": "python3"
  },
  "language_info": {
   "codemirror_mode": {
    "name": "ipython",
    "version": 3
   },
   "file_extension": ".py",
   "mimetype": "text/x-python",
   "name": "python",
   "nbconvert_exporter": "python",
   "pygments_lexer": "ipython3",
   "version": "3.7.4"
  }
 },
 "nbformat": 4,
 "nbformat_minor": 2
}
