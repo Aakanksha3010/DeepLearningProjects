{
 "cells": [
  {
   "cell_type": "markdown",
   "metadata": {},
   "source": [
    "## Step 1 :-  Loading necessary libraries for Analysis "
   ]
  },
  {
   "cell_type": "code",
   "execution_count": 1,
   "metadata": {},
   "outputs": [
    {
     "name": "stderr",
     "output_type": "stream",
     "text": [
      "Using TensorFlow backend.\n"
     ]
    }
   ],
   "source": [
    "import os \n",
    "import pandas as pd\n",
    "import numpy as np\n",
    "import matplotlib.pyplot as plt\n",
    "%matplotlib inline\n",
    "import sklearn\n",
    "from sklearn.preprocessing import MinMaxScaler\n",
    "from sklearn.metrics import r2_score,accuracy_score\n",
    "from keras.models import Sequential\n",
    "from keras.layers import Dense\n",
    "from keras.layers import LSTM\n",
    "from keras.layers import Dropout\n",
    "from keras.optimizers import *\n",
    "from keras.callbacks import *"
   ]
  },
  {
   "cell_type": "markdown",
   "metadata": {},
   "source": [
    "## Step 2 :- Data load \n",
    "<div class=\"alert alert-block alert-success\">\n",
    "<b>We will be using the Amazon stock price data from Jan 1, 2006 to Jan 1, 2018</b> \n",
    "    <br>\n",
    "The folder contains datasets related to various stock prices of different firms and from there we are going to pick up the Fourth dataset which will be the dataset we are going to use for analysis.\n",
    "</div>"
   ]
  },
  {
   "cell_type": "code",
   "execution_count": 2,
   "metadata": {},
   "outputs": [
    {
     "data": {
      "text/html": [
       "<div>\n",
       "<style scoped>\n",
       "    .dataframe tbody tr th:only-of-type {\n",
       "        vertical-align: middle;\n",
       "    }\n",
       "\n",
       "    .dataframe tbody tr th {\n",
       "        vertical-align: top;\n",
       "    }\n",
       "\n",
       "    .dataframe thead th {\n",
       "        text-align: right;\n",
       "    }\n",
       "</style>\n",
       "<table border=\"1\" class=\"dataframe\">\n",
       "  <thead>\n",
       "    <tr style=\"text-align: right;\">\n",
       "      <th></th>\n",
       "      <th>Date</th>\n",
       "      <th>Open</th>\n",
       "      <th>High</th>\n",
       "      <th>Low</th>\n",
       "      <th>Close</th>\n",
       "      <th>Volume</th>\n",
       "      <th>Name</th>\n",
       "    </tr>\n",
       "  </thead>\n",
       "  <tbody>\n",
       "    <tr>\n",
       "      <th>0</th>\n",
       "      <td>2006-01-03</td>\n",
       "      <td>47.47</td>\n",
       "      <td>47.85</td>\n",
       "      <td>46.25</td>\n",
       "      <td>47.58</td>\n",
       "      <td>7582127</td>\n",
       "      <td>AMZN</td>\n",
       "    </tr>\n",
       "    <tr>\n",
       "      <th>1</th>\n",
       "      <td>2006-01-04</td>\n",
       "      <td>47.48</td>\n",
       "      <td>47.73</td>\n",
       "      <td>46.69</td>\n",
       "      <td>47.25</td>\n",
       "      <td>7440914</td>\n",
       "      <td>AMZN</td>\n",
       "    </tr>\n",
       "    <tr>\n",
       "      <th>2</th>\n",
       "      <td>2006-01-05</td>\n",
       "      <td>47.16</td>\n",
       "      <td>48.20</td>\n",
       "      <td>47.11</td>\n",
       "      <td>47.65</td>\n",
       "      <td>5417258</td>\n",
       "      <td>AMZN</td>\n",
       "    </tr>\n",
       "    <tr>\n",
       "      <th>3</th>\n",
       "      <td>2006-01-06</td>\n",
       "      <td>47.97</td>\n",
       "      <td>48.58</td>\n",
       "      <td>47.32</td>\n",
       "      <td>47.87</td>\n",
       "      <td>6154285</td>\n",
       "      <td>AMZN</td>\n",
       "    </tr>\n",
       "    <tr>\n",
       "      <th>4</th>\n",
       "      <td>2006-01-09</td>\n",
       "      <td>46.55</td>\n",
       "      <td>47.10</td>\n",
       "      <td>46.40</td>\n",
       "      <td>47.08</td>\n",
       "      <td>8945056</td>\n",
       "      <td>AMZN</td>\n",
       "    </tr>\n",
       "  </tbody>\n",
       "</table>\n",
       "</div>"
      ],
      "text/plain": [
       "         Date   Open   High    Low  Close   Volume  Name\n",
       "0  2006-01-03  47.47  47.85  46.25  47.58  7582127  AMZN\n",
       "1  2006-01-04  47.48  47.73  46.69  47.25  7440914  AMZN\n",
       "2  2006-01-05  47.16  48.20  47.11  47.65  5417258  AMZN\n",
       "3  2006-01-06  47.97  48.58  47.32  47.87  6154285  AMZN\n",
       "4  2006-01-09  46.55  47.10  46.40  47.08  8945056  AMZN"
      ]
     },
     "execution_count": 2,
     "metadata": {},
     "output_type": "execute_result"
    }
   ],
   "source": [
    "path                = r'D:\\kaggle_trials\\stock_time_series_data_dija'\n",
    "relevant_data_files = os.listdir(path)\n",
    "stock_data_path     = path+'\\\\'+relevant_data_files[4]\n",
    "df                  = pd.read_csv(stock_data_path)\n",
    "df.head(5)"
   ]
  },
  {
   "cell_type": "markdown",
   "metadata": {},
   "source": [
    "## Step 3 :- Extracting Features from the data\n",
    "<div class=\"alert alert-block alert-success\">\n",
    "<b>Extracting the Closing price of the stock </b> \n",
    "    <br>\n",
    "We are going to work with the closing price of the stock and hence we are going to extract the 'Close' column of the dataframe loaded. The dataset is already sorted and hence we don't need to perform any ordering on the dataset\n",
    "</div>"
   ]
  },
  {
   "cell_type": "code",
   "execution_count": 3,
   "metadata": {},
   "outputs": [
    {
     "name": "stdout",
     "output_type": "stream",
     "text": [
      "The length of the sub data(containing only the closing stock prices) we have is:-  3019\n"
     ]
    },
    {
     "data": {
      "text/html": [
       "<div>\n",
       "<style scoped>\n",
       "    .dataframe tbody tr th:only-of-type {\n",
       "        vertical-align: middle;\n",
       "    }\n",
       "\n",
       "    .dataframe tbody tr th {\n",
       "        vertical-align: top;\n",
       "    }\n",
       "\n",
       "    .dataframe thead th {\n",
       "        text-align: right;\n",
       "    }\n",
       "</style>\n",
       "<table border=\"1\" class=\"dataframe\">\n",
       "  <thead>\n",
       "    <tr style=\"text-align: right;\">\n",
       "      <th></th>\n",
       "      <th>Close</th>\n",
       "    </tr>\n",
       "  </thead>\n",
       "  <tbody>\n",
       "    <tr>\n",
       "      <th>0</th>\n",
       "      <td>47.58</td>\n",
       "    </tr>\n",
       "    <tr>\n",
       "      <th>1</th>\n",
       "      <td>47.25</td>\n",
       "    </tr>\n",
       "    <tr>\n",
       "      <th>2</th>\n",
       "      <td>47.65</td>\n",
       "    </tr>\n",
       "  </tbody>\n",
       "</table>\n",
       "</div>"
      ],
      "text/plain": [
       "   Close\n",
       "0  47.58\n",
       "1  47.25\n",
       "2  47.65"
      ]
     },
     "execution_count": 3,
     "metadata": {},
     "output_type": "execute_result"
    }
   ],
   "source": [
    "sub_data_needed      = df.iloc[:,4:5]\n",
    "print('The length of the sub data(containing only the closing stock prices) we have is:- ', len(sub_data_needed))\n",
    "sub_data_needed.head(3)"
   ]
  },
  {
   "cell_type": "markdown",
   "metadata": {},
   "source": [
    "## Step 4:- Separating the Train and Validation data\n",
    "<div class=\"alert alert-block alert-success\">\n",
    "We are going to use the first 2500 dataset values for training the RNN model and the remaining 519 values to check the validity of the model.\n",
    "</div>"
   ]
  },
  {
   "cell_type": "code",
   "execution_count": 4,
   "metadata": {},
   "outputs": [
    {
     "name": "stdout",
     "output_type": "stream",
     "text": [
      "The size of training set is:-  2500\n"
     ]
    }
   ],
   "source": [
    "training_set = sub_data_needed.iloc[:2500,:].values\n",
    "print('The size of training set is:- ',len(training_set))"
   ]
  },
  {
   "cell_type": "markdown",
   "metadata": {},
   "source": [
    "## Step 5:- Preprocessing Training Data \n",
    "<div class=\"alert alert-block alert-success\">\n",
    "<b>Min-Max Normalization technique </b> \n",
    "    <br>\n",
    "1. We will <b> normalize the training dataset</b> <br>\n",
    "2.  We will arrange the <b> one dimensional dataset to a two dimensional dataset </b> where each row will consist of 90 timesteps to predict 1 output and we will have a 2 dimensional data having (2500-90) = 2410 rows and 60 columns. \n",
    "3. We will also store the 61st observation corresponding to every row in a separate array to be used for testing in an LSTM model.<br>\n",
    "4. The input of the LSTM model is a 3D tensor with shape (batch_size, timesteps, input_dim). <br>\n",
    "    <b> In our case, batch size is 2410, timesteps is 90 and input_dim = 1 as we are only considering the closing prices </b>\n",
    "</div>"
   ]
  },
  {
   "cell_type": "code",
   "execution_count": 5,
   "metadata": {},
   "outputs": [
    {
     "name": "stdout",
     "output_type": "stream",
     "text": [
      "We get the Training data X of shape :-  (2410, 90, 1)\n",
      "We get the test data of shape       :-  (2410,)\n",
      "We can clearly see that corresponding to each set of 90 timesteps, we have one value to predict\n"
     ]
    }
   ],
   "source": [
    "time_dep            = 90\n",
    "sc                  = MinMaxScaler()\n",
    "training_set_scaled = sc.fit_transform(training_set)\n",
    "\n",
    "X_train             = []\n",
    "y_train             = []\n",
    "for i in range(time_dep, 2500):\n",
    "    X_train.append(training_set_scaled[i-time_dep:i, 0])\n",
    "    y_train.append(training_set_scaled[i, 0])\n",
    "X_train, y_train    = np.array(X_train), np.array(y_train)\n",
    "\n",
    "X_train             = np.reshape(X_train, (X_train.shape[0], X_train.shape[1], 1))\n",
    "print('We get the Training data X of shape :- ',X_train.shape)\n",
    "print('We get the test data of shape       :- ',y_train.shape)\n",
    "print('We can clearly see that corresponding to each set of 90 timesteps, we have one value to predict')"
   ]
  },
  {
   "cell_type": "code",
   "execution_count": null,
   "metadata": {},
   "outputs": [],
   "source": []
  },
  {
   "cell_type": "markdown",
   "metadata": {},
   "source": [
    "## Step 6 : Callback Creation\n",
    "We create callbacks which we will be using while execution of the model"
   ]
  },
  {
   "cell_type": "code",
   "execution_count": 6,
   "metadata": {},
   "outputs": [],
   "source": [
    "reduce_lr = ReduceLROnPlateau(monitor='loss', factor=0.2,verbose=1,\n",
    "                              patience=5, min_lr=0.0001)\n",
    "es        = EarlyStopping(monitor='loss', patience=5, verbose=1, mode='auto', baseline=None, \n",
    "                          restore_best_weights=True)\n",
    "filepath   = os.getcwd()+'\\\\chkpts\\\\'+\"weights-improvement-{epoch:02d}-{loss:.2f}.hdf5\"\n",
    "checkpoint = ModelCheckpoint(filepath, monitor='loss', verbose=1, save_best_only=True, mode='auto')"
   ]
  },
  {
   "cell_type": "markdown",
   "metadata": {},
   "source": [
    "## Step 7 : Building the actual model \n",
    "<div class=\"alert alert-block alert-success\">\n",
    "<b>LSTM + Dense layers </b> \n",
    "    <br>\n",
    "1. We will fit an <b> LSTM model having 3 layers</b> <br>\n",
    "2. We will then get the outcome of the LSTM layers to one dense layer having 100 hidden layers whose outcome will go to one final layer"
   ]
  },
  {
   "cell_type": "code",
   "execution_count": 7,
   "metadata": {},
   "outputs": [
    {
     "name": "stdout",
     "output_type": "stream",
     "text": [
      "WARNING:tensorflow:From C:\\Users\\Batfleck\\Anaconda3\\envs\\keras-gpu\\lib\\site-packages\\tensorflow\\python\\framework\\op_def_library.py:263: colocate_with (from tensorflow.python.framework.ops) is deprecated and will be removed in a future version.\n",
      "Instructions for updating:\n",
      "Colocations handled automatically by placer.\n",
      "WARNING:tensorflow:From C:\\Users\\Batfleck\\Anaconda3\\envs\\keras-gpu\\lib\\site-packages\\keras\\backend\\tensorflow_backend.py:3445: calling dropout (from tensorflow.python.ops.nn_ops) with keep_prob is deprecated and will be removed in a future version.\n",
      "Instructions for updating:\n",
      "Please use `rate` instead of `keep_prob`. Rate should be set to `rate = 1 - keep_prob`.\n",
      "_________________________________________________________________\n",
      "Layer (type)                 Output Shape              Param #   \n",
      "=================================================================\n",
      "lstm_1 (LSTM)                (None, 90, 500)           1004000   \n",
      "_________________________________________________________________\n",
      "dropout_1 (Dropout)          (None, 90, 500)           0         \n",
      "_________________________________________________________________\n",
      "lstm_2 (LSTM)                (None, 90, 380)           1339120   \n",
      "_________________________________________________________________\n",
      "dropout_2 (Dropout)          (None, 90, 380)           0         \n",
      "_________________________________________________________________\n",
      "lstm_3 (LSTM)                (None, 260)               666640    \n",
      "_________________________________________________________________\n",
      "dropout_3 (Dropout)          (None, 260)               0         \n",
      "_________________________________________________________________\n",
      "dense_1 (Dense)              (None, 100)               26100     \n",
      "_________________________________________________________________\n",
      "dropout_4 (Dropout)          (None, 100)               0         \n",
      "_________________________________________________________________\n",
      "dense_2 (Dense)              (None, 1)                 101       \n",
      "=================================================================\n",
      "Total params: 3,035,961\n",
      "Trainable params: 3,035,961\n",
      "Non-trainable params: 0\n",
      "_________________________________________________________________\n"
     ]
    }
   ],
   "source": [
    "model = Sequential()\n",
    "model.add(LSTM(units=500,return_sequences=True,activation='tanh',input_shape = (X_train.shape[1],1)))\n",
    "model.add(Dropout(0.15))\n",
    "model.add(LSTM(units=380,return_sequences=True,activation = 'tanh'))\n",
    "model.add(Dropout(0.15))\n",
    "model.add(LSTM(units=260))\n",
    "model.add(Dropout(0.15))\n",
    "model.add(Dense(units = 100))\n",
    "model.add(Dropout(0.1))\n",
    "model.add(Dense(units = 1))\n",
    "\n",
    "model.compile(optimizer = 'adam', loss = 'mean_squared_error')\n",
    "\n",
    "model.summary()"
   ]
  },
  {
   "cell_type": "markdown",
   "metadata": {},
   "source": [
    "## Step 8 :- Fitting the model\n",
    "We will fit the model with fixed epochs and batch-size"
   ]
  },
  {
   "cell_type": "code",
   "execution_count": 8,
   "metadata": {},
   "outputs": [
    {
     "name": "stdout",
     "output_type": "stream",
     "text": [
      "WARNING:tensorflow:From C:\\Users\\Batfleck\\Anaconda3\\envs\\keras-gpu\\lib\\site-packages\\tensorflow\\python\\ops\\math_ops.py:3066: to_int32 (from tensorflow.python.ops.math_ops) is deprecated and will be removed in a future version.\n",
      "Instructions for updating:\n",
      "Use tf.cast instead.\n",
      "Epoch 1/40\n",
      "2410/2410 [==============================] - 39s 16ms/step - loss: 0.0085\n",
      "\n",
      "Epoch 00001: loss improved from inf to 0.00848, saving model to C:\\Users\\Batfleck\\APB_DL_EXERCISES\\Stock_price_prediction_lstm\\chkpts\\weights-improvement-01-0.01.hdf5\n",
      "Epoch 2/40\n",
      "2410/2410 [==============================] - 35s 14ms/step - loss: 8.9926e-04\n",
      "\n",
      "Epoch 00002: loss improved from 0.00848 to 0.00090, saving model to C:\\Users\\Batfleck\\APB_DL_EXERCISES\\Stock_price_prediction_lstm\\chkpts\\weights-improvement-02-0.00.hdf5\n",
      "Epoch 3/40\n",
      "2410/2410 [==============================] - 35s 15ms/step - loss: 7.6469e-04\n",
      "\n",
      "Epoch 00003: loss improved from 0.00090 to 0.00076, saving model to C:\\Users\\Batfleck\\APB_DL_EXERCISES\\Stock_price_prediction_lstm\\chkpts\\weights-improvement-03-0.00.hdf5\n",
      "Epoch 4/40\n",
      "2410/2410 [==============================] - 35s 15ms/step - loss: 6.8857e-04\n",
      "\n",
      "Epoch 00004: loss improved from 0.00076 to 0.00069, saving model to C:\\Users\\Batfleck\\APB_DL_EXERCISES\\Stock_price_prediction_lstm\\chkpts\\weights-improvement-04-0.00.hdf5\n",
      "Epoch 5/40\n",
      "2410/2410 [==============================] - 35s 14ms/step - loss: 6.5148e-04\n",
      "\n",
      "Epoch 00005: loss improved from 0.00069 to 0.00065, saving model to C:\\Users\\Batfleck\\APB_DL_EXERCISES\\Stock_price_prediction_lstm\\chkpts\\weights-improvement-05-0.00.hdf5\n",
      "Epoch 6/40\n",
      "2410/2410 [==============================] - 35s 14ms/step - loss: 6.1267e-04\n",
      "\n",
      "Epoch 00006: loss improved from 0.00065 to 0.00061, saving model to C:\\Users\\Batfleck\\APB_DL_EXERCISES\\Stock_price_prediction_lstm\\chkpts\\weights-improvement-06-0.00.hdf5\n",
      "Epoch 7/40\n",
      "2410/2410 [==============================] - 38s 16ms/step - loss: 7.5476e-04\n",
      "\n",
      "Epoch 00007: loss did not improve from 0.00061\n",
      "Epoch 8/40\n",
      "2410/2410 [==============================] - 36s 15ms/step - loss: 6.8644e-04\n",
      "\n",
      "Epoch 00008: loss did not improve from 0.00061\n",
      "Epoch 9/40\n",
      "2410/2410 [==============================] - 35s 14ms/step - loss: 5.8517e-04\n",
      "\n",
      "Epoch 00009: loss improved from 0.00061 to 0.00059, saving model to C:\\Users\\Batfleck\\APB_DL_EXERCISES\\Stock_price_prediction_lstm\\chkpts\\weights-improvement-09-0.00.hdf5\n",
      "Epoch 10/40\n",
      "2410/2410 [==============================] - 35s 14ms/step - loss: 6.8085e-04\n",
      "\n",
      "Epoch 00010: ReduceLROnPlateau reducing learning rate to 0.00020000000949949026.\n",
      "\n",
      "Epoch 00010: loss did not improve from 0.00059\n",
      "Epoch 11/40\n",
      "2410/2410 [==============================] - 35s 14ms/step - loss: 4.0793e-04\n",
      "\n",
      "Epoch 00011: loss improved from 0.00059 to 0.00041, saving model to C:\\Users\\Batfleck\\APB_DL_EXERCISES\\Stock_price_prediction_lstm\\chkpts\\weights-improvement-11-0.00.hdf5\n",
      "Epoch 12/40\n",
      "2410/2410 [==============================] - 35s 15ms/step - loss: 3.7442e-04\n",
      "\n",
      "Epoch 00012: loss improved from 0.00041 to 0.00037, saving model to C:\\Users\\Batfleck\\APB_DL_EXERCISES\\Stock_price_prediction_lstm\\chkpts\\weights-improvement-12-0.00.hdf5\n",
      "Epoch 13/40\n",
      "2410/2410 [==============================] - 35s 14ms/step - loss: 3.9567e-04\n",
      "\n",
      "Epoch 00013: loss did not improve from 0.00037\n",
      "Epoch 14/40\n",
      "2410/2410 [==============================] - 35s 14ms/step - loss: 3.6051e-04\n",
      "\n",
      "Epoch 00014: loss improved from 0.00037 to 0.00036, saving model to C:\\Users\\Batfleck\\APB_DL_EXERCISES\\Stock_price_prediction_lstm\\chkpts\\weights-improvement-14-0.00.hdf5\n",
      "Epoch 15/40\n",
      "2410/2410 [==============================] - 35s 15ms/step - loss: 3.6381e-04\n",
      "\n",
      "Epoch 00015: loss did not improve from 0.00036\n",
      "Epoch 16/40\n",
      "2410/2410 [==============================] - 35s 15ms/step - loss: 3.5870e-04\n",
      "\n",
      "Epoch 00016: ReduceLROnPlateau reducing learning rate to 0.0001.\n",
      "\n",
      "Epoch 00016: loss improved from 0.00036 to 0.00036, saving model to C:\\Users\\Batfleck\\APB_DL_EXERCISES\\Stock_price_prediction_lstm\\chkpts\\weights-improvement-16-0.00.hdf5\n",
      "Epoch 17/40\n",
      "2410/2410 [==============================] - 35s 14ms/step - loss: 3.1661e-04\n",
      "\n",
      "Epoch 00017: loss improved from 0.00036 to 0.00032, saving model to C:\\Users\\Batfleck\\APB_DL_EXERCISES\\Stock_price_prediction_lstm\\chkpts\\weights-improvement-17-0.00.hdf5\n",
      "Epoch 18/40\n",
      "2410/2410 [==============================] - 35s 14ms/step - loss: 3.3888e-04\n",
      "\n",
      "Epoch 00018: loss did not improve from 0.00032\n",
      "Epoch 19/40\n",
      "2410/2410 [==============================] - 35s 14ms/step - loss: 3.6255e-04\n",
      "\n",
      "Epoch 00019: loss did not improve from 0.00032\n",
      "Epoch 20/40\n",
      "2410/2410 [==============================] - 35s 14ms/step - loss: 3.6274e-04\n",
      "\n",
      "Epoch 00020: loss did not improve from 0.00032\n",
      "Epoch 21/40\n",
      "2410/2410 [==============================] - 35s 14ms/step - loss: 3.2796e-04\n",
      "\n",
      "Epoch 00021: loss did not improve from 0.00032\n",
      "Epoch 22/40\n",
      "2410/2410 [==============================] - 35s 15ms/step - loss: 3.3989e-04\n",
      "Restoring model weights from the end of the best epoch\n",
      "\n",
      "Epoch 00022: loss did not improve from 0.00032\n",
      "Epoch 00022: early stopping\n"
     ]
    },
    {
     "data": {
      "text/plain": [
       "<keras.callbacks.History at 0x19379e07550>"
      ]
     },
     "execution_count": 8,
     "metadata": {},
     "output_type": "execute_result"
    }
   ],
   "source": [
    "epochs = 40\n",
    "batch_sz = 24\n",
    "model.fit(X_train, y_train, \n",
    "          epochs = epochs, \n",
    "          batch_size = batch_sz,\n",
    "         callbacks        = [reduce_lr,es,checkpoint])"
   ]
  },
  {
   "cell_type": "markdown",
   "metadata": {},
   "source": [
    "## Step 9 :- Validating the model\n",
    "We will now validate the model on a given sequence of stock prices. \n",
    "<div class=\"alert alert-block alert-success\">\n",
    "<b>Validation </b> \n",
    "    <br>\n",
    "1. We will validate the data on the last 519 observations.  <br>\n",
    "2. We will adjust our data accordingly to get the test data in accordance with the input format needed by the LSTM model that we fitted in step 7 \n",
    "</div>"
   ]
  },
  {
   "cell_type": "code",
   "execution_count": 9,
   "metadata": {},
   "outputs": [],
   "source": [
    "dataset_test         = sub_data_needed.iloc[2500:,:]\n",
    "real_stock_price     = dataset_test.values\n",
    "inputs = sub_data_needed[len(sub_data_needed)-len(dataset_test)-time_dep:].values\n",
    "inputs = inputs.reshape(-1,1)\n",
    "inputs = sc.transform(inputs)\n",
    "X_test = []\n",
    "for i in range(time_dep, time_dep+len(dataset_test)):\n",
    "    X_test.append(inputs[i-time_dep:i, 0])\n",
    "X_test = np.array(X_test)\n",
    "X_test = np.reshape(X_test, (X_test.shape[0], X_test.shape[1], 1))"
   ]
  },
  {
   "cell_type": "markdown",
   "metadata": {},
   "source": [
    "## Step 10 :- Performance metrics and Graphical representation"
   ]
  },
  {
   "cell_type": "code",
   "execution_count": 10,
   "metadata": {},
   "outputs": [
    {
     "name": "stdout",
     "output_type": "stream",
     "text": [
      "The R2 score between the predicted and actual values is:  0.984\n"
     ]
    }
   ],
   "source": [
    "predicted_stock_price = model.predict(X_test)\n",
    "predicted_stock_price = sc.inverse_transform(predicted_stock_price)\n",
    "print('The R2 score between the predicted and actual values is: ',round(r2_score(real_stock_price,predicted_stock_price),3))"
   ]
  },
  {
   "cell_type": "code",
   "execution_count": 12,
   "metadata": {},
   "outputs": [
    {
     "data": {
      "image/png": "[encoded data removed]",
      "text/plain": [
       "<Figure size 432x288 with 1 Axes>"
      ]
     },
     "metadata": {
      "needs_background": "light"
     },
     "output_type": "display_data"
    }
   ],
   "source": [
    "plt.plot(real_stock_price, color = 'green', label = 'Real Stock Price')\n",
    "plt.plot(predicted_stock_price, color = 'blue', label = 'Predicted Stock Price')\n",
    "plt.title('Stock Price Prediction')\n",
    "plt.xlabel('Time')\n",
    "plt.ylabel('Stock Price')\n",
    "plt.legend()\n",
    "plt.show()\n"
   ]
  },
  {
   "cell_type": "code",
   "execution_count": null,
   "metadata": {},
   "outputs": [],
   "source": []
  },
  {
   "cell_type": "code",
   "execution_count": null,
   "metadata": {},
   "outputs": [],
   "source": []
  }
 ],
 "metadata": {
  "kernelspec": {
   "display_name": "Python 3",
   "language": "python",
   "name": "python3"
  },
  "language_info": {
   "codemirror_mode": {
    "name": "ipython",
    "version": 3
   },
   "file_extension": ".py",
   "mimetype": "text/x-python",
   "name": "python",
   "nbconvert_exporter": "python",
   "pygments_lexer": "ipython3",
   "version": "3.7.3"
  }
 },
 "nbformat": 4,
 "nbformat_minor": 2
}
