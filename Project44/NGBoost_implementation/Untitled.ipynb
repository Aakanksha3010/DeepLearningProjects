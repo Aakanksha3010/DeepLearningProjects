{
 "cells": [
  {
   "cell_type": "code",
   "execution_count": 1,
   "metadata": {},
   "outputs": [],
   "source": [
    "import pandas as pd \n",
    "import numpy as np\n",
    "import os\n",
    "\n",
    "from ngboost import NGBClassifier\n",
    "from sklearn.metrics import *\n",
    "from sklearn.model_selection import StratifiedKFold\n",
    "\n",
    "import matplotlib.pyplot as plt\n",
    "%matplotlib inline"
   ]
  },
  {
   "cell_type": "markdown",
   "metadata": {},
   "source": [
    "# Reading train and test datasets from given paths"
   ]
  },
  {
   "cell_type": "code",
   "execution_count": 2,
   "metadata": {},
   "outputs": [],
   "source": [
    "train_path  = r'D:\\av_hackathons\\machine_hack_5\\Train.csv'\n",
    "test_path   = r'D:\\av_hackathons\\machine_hack_5\\Test.csv'\n",
    "submis_path = r'D:\\av_hackathons\\machine_hack_5\\Sample_Submission.xlsx'\n",
    "\n",
    "###### These are the paths of the files in my system. Kindly change them when using"
   ]
  },
  {
   "cell_type": "code",
   "execution_count": 3,
   "metadata": {},
   "outputs": [
    {
     "name": "stdout",
     "output_type": "stream",
     "text": [
      "(543, 7) (233, 7)\n"
     ]
    }
   ],
   "source": [
    "train_data  = pd.read_csv(train_path)\n",
    "test_data   = pd.read_csv(test_path)\n",
    "train_y     = train_data['IsUnderRisk'].values\n",
    "\n",
    "train_data  = train_data.drop(['IsUnderRisk'],axis=1)\n",
    "\n",
    "print(train_data.shape,test_data.shape)\n",
    "train       = train_data.values\n",
    "test        = test_data.values"
   ]
  },
  {
   "cell_type": "markdown",
   "metadata": {},
   "source": [
    "## Fitting the model while applying stratified K fold.\n",
    "Here I have taken the number of steps to be 700 (or the number of decision trees to be 700), just to show the progression of how the loss and validation loss reduces."
   ]
  },
  {
   "cell_type": "code",
   "execution_count": 4,
   "metadata": {},
   "outputs": [
    {
     "name": "stdout",
     "output_type": "stream",
     "text": [
      "[iter 0] loss=0.6607 val_loss=0.6526 scale=2.0000 norm=4.0000\n",
      "[iter 100] loss=0.2997 val_loss=0.3568 scale=2.0000 norm=2.8774\n",
      "[iter 200] loss=0.2586 val_loss=0.3313 scale=2.0000 norm=2.8653\n",
      "[iter 300] loss=0.2495 val_loss=0.3264 scale=1.0000 norm=1.4324\n",
      "[iter 400] loss=0.2456 val_loss=0.3236 scale=2.0000 norm=2.8600\n",
      "[iter 500] loss=0.2443 val_loss=0.3230 scale=0.2500 norm=0.3574\n",
      "[iter 600] loss=0.2437 val_loss=0.3224 scale=1.0000 norm=1.4292\n",
      "validation logloss fold- 1 :  0.32240919545058566\n",
      "\n",
      "\n",
      "[iter 0] loss=0.6607 val_loss=0.6508 scale=2.0000 norm=4.0000\n",
      "[iter 100] loss=0.3144 val_loss=0.2721 scale=2.0000 norm=2.9217\n",
      "[iter 200] loss=0.2807 val_loss=0.2348 scale=1.0000 norm=1.4514\n",
      "[iter 300] loss=0.2721 val_loss=0.2257 scale=1.0000 norm=1.4464\n",
      "[iter 400] loss=0.2682 val_loss=0.2230 scale=0.5000 norm=0.7218\n",
      "[iter 500] loss=0.2672 val_loss=0.2220 scale=0.1250 norm=0.1804\n",
      "[iter 600] loss=0.2668 val_loss=0.2217 scale=0.0625 norm=0.0902\n",
      "validation logloss fold- 2 :  0.2215503873386347\n",
      "\n",
      "\n",
      "[iter 0] loss=0.6607 val_loss=0.6520 scale=2.0000 norm=4.0000\n",
      "[iter 100] loss=0.3029 val_loss=0.3260 scale=2.0000 norm=2.8944\n",
      "[iter 200] loss=0.2727 val_loss=0.2972 scale=1.0000 norm=1.4471\n",
      "[iter 300] loss=0.2650 val_loss=0.2911 scale=1.0000 norm=1.4477\n",
      "[iter 400] loss=0.2600 val_loss=0.2866 scale=1.0000 norm=1.4470\n",
      "[iter 500] loss=0.2558 val_loss=0.2816 scale=1.0000 norm=1.4462\n",
      "[iter 600] loss=0.2533 val_loss=0.2787 scale=1.0000 norm=1.4459\n",
      "validation logloss fold- 3 :  0.2770470310547883\n",
      "\n",
      "\n",
      "[iter 0] loss=0.6614 val_loss=0.6489 scale=2.0000 norm=4.0000\n",
      "[iter 100] loss=0.3029 val_loss=0.3129 scale=2.0000 norm=2.8935\n",
      "[iter 200] loss=0.2671 val_loss=0.2792 scale=2.0000 norm=2.8721\n",
      "[iter 300] loss=0.2600 val_loss=0.2725 scale=1.0000 norm=1.4387\n",
      "[iter 400] loss=0.2576 val_loss=0.2700 scale=0.5000 norm=0.7197\n",
      "[iter 500] loss=0.2569 val_loss=0.2692 scale=0.2500 norm=0.3601\n",
      "[iter 600] loss=0.2567 val_loss=0.2691 scale=0.1250 norm=0.1801\n",
      "validation logloss fold- 4 :  0.26893403429973506\n",
      "\n",
      "\n",
      "[iter 0] loss=0.6614 val_loss=0.6498 scale=2.0000 norm=4.0000\n",
      "[iter 100] loss=0.2925 val_loss=0.3553 scale=4.0000 norm=5.7699\n",
      "[iter 200] loss=0.2593 val_loss=0.3373 scale=2.0000 norm=2.8610\n",
      "[iter 300] loss=0.2491 val_loss=0.3333 scale=1.0000 norm=1.4269\n",
      "[iter 400] loss=0.2442 val_loss=0.3309 scale=0.5000 norm=0.7121\n",
      "[iter 500] loss=0.2411 val_loss=0.3295 scale=0.5000 norm=0.7111\n",
      "[iter 600] loss=0.2394 val_loss=0.3283 scale=0.2500 norm=0.3554\n",
      "validation logloss fold- 5 :  0.328079370070047\n",
      "\n",
      "\n"
     ]
    }
   ],
   "source": [
    "### outcome of stratified k fold to be stored here in these 2 arrays\n",
    "oof_pred               = np.zeros((len(train),2 ))\n",
    "y_pred                 = []\n",
    "\n",
    "### Splits made for stratified k fold \n",
    "n_splits               = 5\n",
    "skf                    = StratifiedKFold(n_splits=n_splits, shuffle=True, random_state=42)\n",
    "\n",
    "##########  Performing stratified k fold on the data \n",
    "for fold, (tr_ind, val_ind) in enumerate(skf.split(train, train_y)):\n",
    "    X_train, X_val     = train[tr_ind], train[val_ind]\n",
    "    y_train, y_val     = train_y[tr_ind], train_y[val_ind]\n",
    "    model              = NGBClassifier(random_state=42,verbose=True,n_estimators=700)\n",
    "\n",
    "    model.fit(X        = X_train,\n",
    "              Y        = y_train,\n",
    "              X_val    = X_val,\n",
    "              Y_val    = y_val)\n",
    "\n",
    "\n",
    "    val_pred           = model.predict_proba(X_val)\n",
    "\n",
    "    print('validation logloss fold-',fold+1,': ',log_loss(y_val, val_pred))\n",
    "    print('\\n')\n",
    "\n",
    "\n",
    "    oof_pred[val_ind]  = val_pred\n",
    "\n",
    "\n",
    "    y_pred.append(model.predict_proba(test))\n",
    "\n",
    "\n",
    "y_pred_final           = np.mean(np.array(y_pred),axis=0)\n",
    "\n",
    "\n"
   ]
  },
  {
   "cell_type": "code",
   "execution_count": 5,
   "metadata": {},
   "outputs": [],
   "source": [
    "submission_df = pd.read_excel(submis_path)\n",
    "submission_df[0] = y_pred_final[:,0]\n",
    "submission_df[1] =y_pred_final[:,1]"
   ]
  },
  {
   "cell_type": "code",
   "execution_count": 6,
   "metadata": {},
   "outputs": [
    {
     "data": {
      "text/html": [
       "<div>\n",
       "<style scoped>\n",
       "    .dataframe tbody tr th:only-of-type {\n",
       "        vertical-align: middle;\n",
       "    }\n",
       "\n",
       "    .dataframe tbody tr th {\n",
       "        vertical-align: top;\n",
       "    }\n",
       "\n",
       "    .dataframe thead th {\n",
       "        text-align: right;\n",
       "    }\n",
       "</style>\n",
       "<table border=\"1\" class=\"dataframe\">\n",
       "  <thead>\n",
       "    <tr style=\"text-align: right;\">\n",
       "      <th></th>\n",
       "      <th>0</th>\n",
       "      <th>1</th>\n",
       "    </tr>\n",
       "  </thead>\n",
       "  <tbody>\n",
       "    <tr>\n",
       "      <th>0</th>\n",
       "      <td>0.000121</td>\n",
       "      <td>0.999879</td>\n",
       "    </tr>\n",
       "    <tr>\n",
       "      <th>1</th>\n",
       "      <td>0.019659</td>\n",
       "      <td>0.980341</td>\n",
       "    </tr>\n",
       "    <tr>\n",
       "      <th>2</th>\n",
       "      <td>0.905660</td>\n",
       "      <td>0.094340</td>\n",
       "    </tr>\n",
       "    <tr>\n",
       "      <th>3</th>\n",
       "      <td>0.000121</td>\n",
       "      <td>0.999879</td>\n",
       "    </tr>\n",
       "    <tr>\n",
       "      <th>4</th>\n",
       "      <td>0.489699</td>\n",
       "      <td>0.510301</td>\n",
       "    </tr>\n",
       "  </tbody>\n",
       "</table>\n",
       "</div>"
      ],
      "text/plain": [
       "          0         1\n",
       "0  0.000121  0.999879\n",
       "1  0.019659  0.980341\n",
       "2  0.905660  0.094340\n",
       "3  0.000121  0.999879\n",
       "4  0.489699  0.510301"
      ]
     },
     "execution_count": 6,
     "metadata": {},
     "output_type": "execute_result"
    }
   ],
   "source": [
    "submission_df.head(5)"
   ]
  },
  {
   "cell_type": "markdown",
   "metadata": {},
   "source": [
    "## plotting the loss score(This will belong to the last fold only)"
   ]
  },
  {
   "cell_type": "code",
   "execution_count": 7,
   "metadata": {},
   "outputs": [
    {
     "data": {
      "image/png": "[encoded data removed]",
      "text/plain": [
       "<Figure size 432x288 with 1 Axes>"
      ]
     },
     "metadata": {
      "needs_background": "light"
     },
     "output_type": "display_data"
    }
   ],
   "source": [
    "plt.plot(model.evals_result['train']['LOGSCORE']);"
   ]
  },
  {
   "cell_type": "markdown",
   "metadata": {},
   "source": [
    "## Parameters used in the model"
   ]
  },
  {
   "cell_type": "code",
   "execution_count": 8,
   "metadata": {},
   "outputs": [
    {
     "data": {
      "text/plain": [
       "{'Base__ccp_alpha': 0.0,\n",
       " 'Base__criterion': 'friedman_mse',\n",
       " 'Base__max_depth': 3,\n",
       " 'Base__max_features': None,\n",
       " 'Base__max_leaf_nodes': None,\n",
       " 'Base__min_impurity_decrease': 0.0,\n",
       " 'Base__min_impurity_split': None,\n",
       " 'Base__min_samples_leaf': 1,\n",
       " 'Base__min_samples_split': 2,\n",
       " 'Base__min_weight_fraction_leaf': 0.0,\n",
       " 'Base__presort': 'deprecated',\n",
       " 'Base__random_state': None,\n",
       " 'Base__splitter': 'best',\n",
       " 'Base': DecisionTreeRegressor(ccp_alpha=0.0, criterion='friedman_mse', max_depth=3,\n",
       "                       max_features=None, max_leaf_nodes=None,\n",
       "                       min_impurity_decrease=0.0, min_impurity_split=None,\n",
       "                       min_samples_leaf=1, min_samples_split=2,\n",
       "                       min_weight_fraction_leaf=0.0, presort='deprecated',\n",
       "                       random_state=None, splitter='best'),\n",
       " 'Dist': ngboost.distns.categorical.k_categorical.<locals>.Categorical,\n",
       " 'Score': ngboost.scores.LogScore,\n",
       " 'col_sample': 1.0,\n",
       " 'learning_rate': 0.01,\n",
       " 'minibatch_frac': 1.0,\n",
       " 'n_estimators': 700,\n",
       " 'natural_gradient': True,\n",
       " 'random_state': RandomState(MT19937) at 0x22432517158,\n",
       " 'tol': 0.0001,\n",
       " 'verbose': True,\n",
       " 'verbose_eval': 100}"
      ]
     },
     "execution_count": 8,
     "metadata": {},
     "output_type": "execute_result"
    }
   ],
   "source": [
    "model.get_params()"
   ]
  },
  {
   "cell_type": "code",
   "execution_count": null,
   "metadata": {},
   "outputs": [],
   "source": []
  },
  {
   "cell_type": "code",
   "execution_count": null,
   "metadata": {},
   "outputs": [],
   "source": []
  },
  {
   "cell_type": "code",
   "execution_count": null,
   "metadata": {},
   "outputs": [],
   "source": []
  },
  {
   "cell_type": "code",
   "execution_count": null,
   "metadata": {},
   "outputs": [],
   "source": []
  },
  {
   "cell_type": "code",
   "execution_count": null,
   "metadata": {},
   "outputs": [],
   "source": []
  }
 ],
 "metadata": {
  "kernelspec": {
   "display_name": "Python 3",
   "language": "python",
   "name": "python3"
  },
  "language_info": {
   "codemirror_mode": {
    "name": "ipython",
    "version": 3
   },
   "file_extension": ".py",
   "mimetype": "text/x-python",
   "name": "python",
   "nbconvert_exporter": "python",
   "pygments_lexer": "ipython3",
   "version": "3.7.4"
  }
 },
 "nbformat": 4,
 "nbformat_minor": 2
}
