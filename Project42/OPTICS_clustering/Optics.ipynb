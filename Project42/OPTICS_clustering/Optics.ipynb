{
 "cells": [
  {
   "cell_type": "code",
   "execution_count": 1,
   "metadata": {},
   "outputs": [],
   "source": [
    "import numpy as np\n",
    "import pandas as pd\n",
    "import matplotlib.pyplot as plt\n",
    "%matplotlib inline\n",
    "from sklearn.datasets import make_blobs\n",
    "from collections import Counter"
   ]
  },
  {
   "cell_type": "markdown",
   "metadata": {},
   "source": [
    "<div class=\"alert alert-block alert-success\">\n",
    "<b>Functions to output one unprocessed point:</b> This function will output one unprocessed point from the master data. We will say a point in unprocessed if no cluster is assigned to it.\n",
    "</div>"
   ]
  },
  {
   "cell_type": "code",
   "execution_count": 2,
   "metadata": {},
   "outputs": [],
   "source": [
    "def output_unprocessed_point():\n",
    "    subdata                = master_df[['Points','Cluster']]\n",
    "    unprocessed_data       = subdata[subdata['Cluster']==0]\n",
    "    index_unprocessed_data = unprocessed_data['Cluster'].index[0]\n",
    "    return master_df.loc[index_unprocessed_data]['Points']\n",
    "    "
   ]
  },
  {
   "cell_type": "markdown",
   "metadata": {},
   "source": [
    "<div class=\"alert alert-block alert-success\">\n",
    "<b>Functions to check unprocessed point:</b> This function will check whether a cluster is assigned to one point or not. This is different from the previous function because over here we will be just checking the assignment of a cluster to a point. The previous function was supposed to output the unprocessed/unclustered point of the data.\n",
    "</div>"
   ]
  },
  {
   "cell_type": "code",
   "execution_count": 3,
   "metadata": {},
   "outputs": [],
   "source": [
    "def check_processed(testpt):\n",
    "    for i in range(len(master_df)):\n",
    "        if Counter(np.array(testpt)==master_df.loc[i]['Points'])[True]==datasets.shape[1]:\n",
    "            cluster_value = master_df.loc[i]['Cluster']\n",
    "            if cluster_value==0:\n",
    "                return 'not assigned'\n",
    "            else:\n",
    "                return 'assigned'"
   ]
  },
  {
   "cell_type": "markdown",
   "metadata": {},
   "source": [
    "<div class=\"alert alert-block alert-success\">\n",
    "<b>Calculating neighbors:</b> This function will calculate neighbors of a particular point. After calculating neighbors, it will also do the additional task of computing the core and reachability distances of the points. The end result will be a data frame having 4 columns. The column core_distance will represent the core distance of point 'pt' which will be passed as an input\n",
    "</div>"
   ]
  },
  {
   "cell_type": "code",
   "execution_count": 4,
   "metadata": {},
   "outputs": [],
   "source": [
    "def calculate_neighbors(pt):\n",
    "    df = pd.DataFrame(columns=['neighbors','nbr_distance','core_distance','reach_distance'])\n",
    "    nbrs = []\n",
    "    distance = []\n",
    "    for i in range(datasets.shape[0]):\n",
    "        if Counter(pt!=datasets[i])[True]==datasets.shape[1]:\n",
    "            dist = np.linalg.norm(pt-datasets[i])\n",
    "            if dist <eps:\n",
    "                nbrs.append(datasets[i])\n",
    "                distance.append(dist)\n",
    "    df['neighbors'] = nbrs\n",
    "    df['nbr_distance'] = distance\n",
    "    df = df.sort_values('nbr_distance')\n",
    "    df.index = range(len(df))\n",
    "    if len(df)>=minpts:\n",
    "        df['core_distance'] = [df.loc[minpts-1]['nbr_distance']]*len(df)\n",
    "        df['reach_distance'] = df[['nbr_distance','core_distance']].max(axis=1)\n",
    "        core_dist_decision  = 'defined'\n",
    "    else:    \n",
    "        df['core_distance'] = [10000]*len(df)\n",
    "        df['reach_distance'] = [10000]*len(df)\n",
    "        core_dist_decision  = 'undefined'\n",
    "    return df, df['neighbors'].values,core_dist_decision"
   ]
  },
  {
   "cell_type": "markdown",
   "metadata": {},
   "source": [
    "<div class=\"alert alert-block alert-success\">\n",
    "<b>Updating master data with processed point:</b> We will update the master data with the point and its cluster. It will be the point for which we calculated the neighbors and also the distances using the previous functions\n",
    "</div>"
   ]
  },
  {
   "cell_type": "code",
   "execution_count": 5,
   "metadata": {},
   "outputs": [],
   "source": [
    "def update_p(p,Cluster,N):\n",
    "    for i in range(master_df.shape[0]):\n",
    "            if Counter(np.array(p)==master_df.loc[i]['Points'])[True]==datasets.shape[1]:\n",
    "                master_df.loc[i,'Cluster']       = Cluster\n",
    "                master_df.loc[i,'Core Distance'] = N['core_distance'].values[0]\n"
   ]
  },
  {
   "cell_type": "markdown",
   "metadata": {},
   "source": [
    "<div class=\"alert alert-block alert-success\">\n",
    "<b>Functions to update reachability distance:</b> This function will update the reachability distance depending upon some rules. This will be mostly used by points within a neighbourhood set.\n",
    "</div>"
   ]
  },
  {
   "cell_type": "code",
   "execution_count": 6,
   "metadata": {},
   "outputs": [],
   "source": [
    "def update_neighbor_data(N):\n",
    "    for i in range(len(N)):\n",
    "        pt             = N['neighbors'][i]\n",
    "        reach_distance = N['reach_distance'][i]\n",
    "        for j in range(master_df.shape[0]):\n",
    "                \n",
    "                if Counter(pt==master_df.loc[j]['Points'])[True]==datasets.shape[1]:\n",
    "                    existing_reach_dist     = master_df.loc[j]['Reachability Distance']\n",
    "                    \n",
    "                    if existing_reach_dist == 10000 or (existing_reach_dist >reach_distance):\n",
    "                        master_df.loc[j,'Reachability Distance']=reach_distance\n",
    "\n",
    "\n",
    "    "
   ]
  },
  {
   "cell_type": "markdown",
   "metadata": {},
   "source": [
    "<div class=\"alert alert-block alert-success\">\n",
    "<b>Creating data and updating parameters:</b> We will create the dataset and also set parameters - minpts and eps to be used through out the code.\n",
    "</div>"
   ]
  },
  {
   "cell_type": "code",
   "execution_count": 7,
   "metadata": {},
   "outputs": [
    {
     "data": {
      "image/png": "[encoded data removed]",
      "text/plain": [
       "<Figure size 720x360 with 1 Axes>"
      ]
     },
     "metadata": {
      "needs_background": "light"
     },
     "output_type": "display_data"
    }
   ],
   "source": [
    "X,y      = make_blobs(n_samples=50,n_features=2,centers=2,random_state=19)\n",
    "datasets = X\n",
    "fig,ax = plt.subplots(figsize=(10,5))\n",
    "ax.set_title(\"Actual Data showing 2 clusters\")\n",
    "ax.scatter(X[:,0],X[:,1],c=y,s=50,cmap = 'inferno');"
   ]
  },
  {
   "cell_type": "markdown",
   "metadata": {},
   "source": [
    "<div class=\"alert alert-block alert-success\">\n",
    "<b>Creating Master dataframe:</b> We wil create a master dataframe to track the progress of cluster formation. All data points are having cluster number '0' assigned to them and it will be updated in the course of time. Also 'Reachability Distance' and 'Core Distance' are set to be undefined and will be updated as needed.\n",
    "</div>"
   ]
  },
  {
   "cell_type": "code",
   "execution_count": 8,
   "metadata": {},
   "outputs": [
    {
     "data": {
      "text/html": [
       "<div>\n",
       "<style scoped>\n",
       "    .dataframe tbody tr th:only-of-type {\n",
       "        vertical-align: middle;\n",
       "    }\n",
       "\n",
       "    .dataframe tbody tr th {\n",
       "        vertical-align: top;\n",
       "    }\n",
       "\n",
       "    .dataframe thead th {\n",
       "        text-align: right;\n",
       "    }\n",
       "</style>\n",
       "<table border=\"1\" class=\"dataframe\">\n",
       "  <thead>\n",
       "    <tr style=\"text-align: right;\">\n",
       "      <th></th>\n",
       "      <th>Points</th>\n",
       "      <th>Cluster</th>\n",
       "      <th>Reachability Distance</th>\n",
       "      <th>Core Distance</th>\n",
       "    </tr>\n",
       "  </thead>\n",
       "  <tbody>\n",
       "    <tr>\n",
       "      <td>0</td>\n",
       "      <td>[-4.318081464767769, -6.7955950723089655]</td>\n",
       "      <td>0</td>\n",
       "      <td>10000</td>\n",
       "      <td>10000</td>\n",
       "    </tr>\n",
       "    <tr>\n",
       "      <td>1</td>\n",
       "      <td>[-9.25650928641327, 5.599834670506994]</td>\n",
       "      <td>0</td>\n",
       "      <td>10000</td>\n",
       "      <td>10000</td>\n",
       "    </tr>\n",
       "    <tr>\n",
       "      <td>2</td>\n",
       "      <td>[-7.589592936362704, 5.176477669470069]</td>\n",
       "      <td>0</td>\n",
       "      <td>10000</td>\n",
       "      <td>10000</td>\n",
       "    </tr>\n",
       "    <tr>\n",
       "      <td>3</td>\n",
       "      <td>[-7.633846053526408, 4.523118198202583]</td>\n",
       "      <td>0</td>\n",
       "      <td>10000</td>\n",
       "      <td>10000</td>\n",
       "    </tr>\n",
       "    <tr>\n",
       "      <td>4</td>\n",
       "      <td>[-5.591589776390145, -8.326295621167743]</td>\n",
       "      <td>0</td>\n",
       "      <td>10000</td>\n",
       "      <td>10000</td>\n",
       "    </tr>\n",
       "  </tbody>\n",
       "</table>\n",
       "</div>"
      ],
      "text/plain": [
       "                                      Points  Cluster  Reachability Distance  \\\n",
       "0  [-4.318081464767769, -6.7955950723089655]        0                  10000   \n",
       "1     [-9.25650928641327, 5.599834670506994]        0                  10000   \n",
       "2    [-7.589592936362704, 5.176477669470069]        0                  10000   \n",
       "3    [-7.633846053526408, 4.523118198202583]        0                  10000   \n",
       "4   [-5.591589776390145, -8.326295621167743]        0                  10000   \n",
       "\n",
       "   Core Distance  \n",
       "0          10000  \n",
       "1          10000  \n",
       "2          10000  \n",
       "3          10000  \n",
       "4          10000  "
      ]
     },
     "execution_count": 8,
     "metadata": {},
     "output_type": "execute_result"
    }
   ],
   "source": [
    "minpts                             = 3\n",
    "eps                                = 5\n",
    "master_df                          = pd.DataFrame(columns=['Points','Cluster','Reachability Distance','Core Distance'])\n",
    "master_df['Points']                = [list(X[i]) for i in range(X.shape[0])]\n",
    "master_df['Cluster']               = [0] *(X.shape[0])\n",
    "master_df['Reachability Distance'] = [10000]*X.shape[0]\n",
    "master_df['Core Distance']         = [10000]*X.shape[0]\n",
    "unclustered_data                   = len(master_df[master_df['Cluster']==0])\n",
    "Cluster                            = 1\n",
    "master_df.head()"
   ]
  },
  {
   "cell_type": "code",
   "execution_count": 9,
   "metadata": {},
   "outputs": [],
   "source": [
    "while unclustered_data>0:\n",
    "    \n",
    "    p                             = output_unprocessed_point()\n",
    "    N,nbrs_p,coredist_decision    = calculate_neighbors(p)\n",
    "    if coredist_decision=='defined':\n",
    "        _              = update_p(p,Cluster,N)\n",
    "        _              = update_neighbor_data(N)\n",
    "    for i in range(len(nbrs_p)):\n",
    "        if check_processed(nbrs_p[i]) == 'not assigned':\n",
    "            N_new,nbrs_q,coredist_decision = calculate_neighbors(nbrs_p[i])\n",
    "            if coredist_decision=='defined':\n",
    "                _              = update_p(nbrs_p[i],Cluster,N_new)\n",
    "                _              = update_neighbor_data(N_new)\n",
    "    Cluster = Cluster+1\n",
    "    unclustered_data = len(master_df[master_df['Cluster']==0])"
   ]
  },
  {
   "cell_type": "code",
   "execution_count": 10,
   "metadata": {},
   "outputs": [
    {
     "data": {
      "text/html": [
       "<div>\n",
       "<style scoped>\n",
       "    .dataframe tbody tr th:only-of-type {\n",
       "        vertical-align: middle;\n",
       "    }\n",
       "\n",
       "    .dataframe tbody tr th {\n",
       "        vertical-align: top;\n",
       "    }\n",
       "\n",
       "    .dataframe thead th {\n",
       "        text-align: right;\n",
       "    }\n",
       "</style>\n",
       "<table border=\"1\" class=\"dataframe\">\n",
       "  <thead>\n",
       "    <tr style=\"text-align: right;\">\n",
       "      <th></th>\n",
       "      <th>Points</th>\n",
       "      <th>Cluster</th>\n",
       "      <th>Reachability Distance</th>\n",
       "      <th>Core Distance</th>\n",
       "    </tr>\n",
       "  </thead>\n",
       "  <tbody>\n",
       "    <tr>\n",
       "      <td>0</td>\n",
       "      <td>[-4.318081464767769, -6.7955950723089655]</td>\n",
       "      <td>1</td>\n",
       "      <td>0.307464</td>\n",
       "      <td>0.414983</td>\n",
       "    </tr>\n",
       "    <tr>\n",
       "      <td>1</td>\n",
       "      <td>[-9.25650928641327, 5.599834670506994]</td>\n",
       "      <td>2</td>\n",
       "      <td>0.644099</td>\n",
       "      <td>0.841993</td>\n",
       "    </tr>\n",
       "    <tr>\n",
       "      <td>2</td>\n",
       "      <td>[-7.589592936362704, 5.176477669470069]</td>\n",
       "      <td>2</td>\n",
       "      <td>0.461310</td>\n",
       "      <td>0.569711</td>\n",
       "    </tr>\n",
       "    <tr>\n",
       "      <td>3</td>\n",
       "      <td>[-7.633846053526408, 4.523118198202583]</td>\n",
       "      <td>2</td>\n",
       "      <td>0.461310</td>\n",
       "      <td>0.521574</td>\n",
       "    </tr>\n",
       "    <tr>\n",
       "      <td>4</td>\n",
       "      <td>[-5.591589776390145, -8.326295621167743]</td>\n",
       "      <td>1</td>\n",
       "      <td>0.298204</td>\n",
       "      <td>0.492691</td>\n",
       "    </tr>\n",
       "  </tbody>\n",
       "</table>\n",
       "</div>"
      ],
      "text/plain": [
       "                                      Points  Cluster  Reachability Distance  \\\n",
       "0  [-4.318081464767769, -6.7955950723089655]        1               0.307464   \n",
       "1     [-9.25650928641327, 5.599834670506994]        2               0.644099   \n",
       "2    [-7.589592936362704, 5.176477669470069]        2               0.461310   \n",
       "3    [-7.633846053526408, 4.523118198202583]        2               0.461310   \n",
       "4   [-5.591589776390145, -8.326295621167743]        1               0.298204   \n",
       "\n",
       "   Core Distance  \n",
       "0       0.414983  \n",
       "1       0.841993  \n",
       "2       0.569711  \n",
       "3       0.521574  \n",
       "4       0.492691  "
      ]
     },
     "execution_count": 10,
     "metadata": {},
     "output_type": "execute_result"
    }
   ],
   "source": [
    "master_df.head()"
   ]
  },
  {
   "cell_type": "code",
   "execution_count": 11,
   "metadata": {},
   "outputs": [
    {
     "data": {
      "image/png": "[encoded data removed]",
      "text/plain": [
       "<Figure size 720x360 with 1 Axes>"
      ]
     },
     "metadata": {
      "needs_background": "light"
     },
     "output_type": "display_data"
    }
   ],
   "source": [
    "fig,ax = plt.subplots(figsize=(10,5))\n",
    "ax.set_title(\"Clustered Data showing 2 clusters (using OPTICS)\")\n",
    "ax.scatter(X[:,0],X[:,1],c=master_df['Cluster'].values,s=50,cmap = 'inferno');"
   ]
  },
  {
   "cell_type": "markdown",
   "metadata": {},
   "source": [
    "We will now see graphically how dense the points are clustered with each other (Density of points using reachability) "
   ]
  },
  {
   "cell_type": "code",
   "execution_count": 12,
   "metadata": {},
   "outputs": [],
   "source": [
    "first_cluster = master_df[master_df['Cluster']==1].sort_values('Reachability Distance')"
   ]
  },
  {
   "cell_type": "code",
   "execution_count": 13,
   "metadata": {},
   "outputs": [],
   "source": [
    "second_cluster = master_df[master_df['Cluster']==2].sort_values('Reachability Distance')"
   ]
  },
  {
   "cell_type": "code",
   "execution_count": 14,
   "metadata": {},
   "outputs": [
    {
     "data": {
      "image/png": "[encoded data removed]",
      "text/plain": [
       "<Figure size 432x288 with 1 Axes>"
      ]
     },
     "metadata": {
      "needs_background": "light"
     },
     "output_type": "display_data"
    }
   ],
   "source": [
    "ax        = first_cluster['Reachability Distance'].plot(kind=\"bar\", legend=False,color='green')\n",
    "ax.set_ylabel(\"Reachability Distance\");\n",
    "ax.set_xlabel('Sample Points');"
   ]
  },
  {
   "cell_type": "code",
   "execution_count": 15,
   "metadata": {},
   "outputs": [
    {
     "data": {
      "image/png": "[encoded data removed]",
      "text/plain": [
       "<Figure size 432x288 with 1 Axes>"
      ]
     },
     "metadata": {
      "needs_background": "light"
     },
     "output_type": "display_data"
    }
   ],
   "source": [
    "ax        = second_cluster['Reachability Distance'].plot(kind=\"bar\", legend=False,color='pink')\n",
    "ax.set_ylabel(\"Reachability Distance\");\n",
    "ax.set_xlabel('Sample Points');"
   ]
  },
  {
   "cell_type": "markdown",
   "metadata": {},
   "source": [
    "### We will now use optics method from sklearn's implementation which will be much faster"
   ]
  },
  {
   "cell_type": "code",
   "execution_count": 27,
   "metadata": {},
   "outputs": [
    {
     "data": {
      "image/png": "[encoded data removed]",
      "text/plain": [
       "<Figure size 720x360 with 1 Axes>"
      ]
     },
     "metadata": {
      "needs_background": "light"
     },
     "output_type": "display_data"
    }
   ],
   "source": [
    "from sklearn.cluster import OPTICS\n",
    "y_cluster = OPTICS(min_samples=10).fit_predict(X)\n",
    "fig,ax = plt.subplots(figsize=(10,5))\n",
    "ax.set_title(\"Clustered Data showing 2 clusters (using Sklearn's OPTICS)\")\n",
    "ax.scatter(X[:,0],X[:,1],c=y_cluster,s=50,cmap = 'inferno');"
   ]
  },
  {
   "cell_type": "code",
   "execution_count": null,
   "metadata": {},
   "outputs": [],
   "source": []
  },
  {
   "cell_type": "code",
   "execution_count": null,
   "metadata": {},
   "outputs": [],
   "source": []
  },
  {
   "cell_type": "code",
   "execution_count": null,
   "metadata": {},
   "outputs": [],
   "source": []
  }
 ],
 "metadata": {
  "kernelspec": {
   "display_name": "Python 3",
   "language": "python",
   "name": "python3"
  },
  "language_info": {
   "codemirror_mode": {
    "name": "ipython",
    "version": 3
   },
   "file_extension": ".py",
   "mimetype": "text/x-python",
   "name": "python",
   "nbconvert_exporter": "python",
   "pygments_lexer": "ipython3",
   "version": "3.7.4"
  }
 },
 "nbformat": 4,
 "nbformat_minor": 2
}
