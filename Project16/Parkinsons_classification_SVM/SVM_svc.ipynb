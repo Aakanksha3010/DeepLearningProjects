{
 "cells": [
  {
   "cell_type": "code",
   "execution_count": 2,
   "metadata": {},
   "outputs": [],
   "source": [
    "import warnings\n",
    "warnings.filterwarnings('ignore')\n",
    "import numpy as np\n",
    "import pandas as pd\n",
    "import os\n",
    "from sklearn.decomposition import PCA\n",
    "from sklearn.svm import SVC\n",
    "from sklearn.preprocessing import MinMaxScaler, LabelBinarizer, OneHotEncoder\n",
    "from sklearn.model_selection import train_test_split, cross_val_score\n",
    "from sklearn.metrics import *\n",
    "import hyperopt\n",
    "from hyperopt import *\n",
    "from hyperopt import fmin, tpe, hp, space_eval\n",
    "import matplotlib.pyplot as plt\n",
    "%matplotlib inline \n"
   ]
  },
  {
   "cell_type": "markdown",
   "metadata": {},
   "source": [
    "<div class=\"alert alert-block alert-success\">\n",
    "<b>Loading the datasets:</b> We load the datasets from the path provided\n",
    "</div>"
   ]
  },
  {
   "cell_type": "code",
   "execution_count": 3,
   "metadata": {},
   "outputs": [
    {
     "data": {
      "text/html": [
       "<div>\n",
       "<style scoped>\n",
       "    .dataframe tbody tr th:only-of-type {\n",
       "        vertical-align: middle;\n",
       "    }\n",
       "\n",
       "    .dataframe tbody tr th {\n",
       "        vertical-align: top;\n",
       "    }\n",
       "\n",
       "    .dataframe thead th {\n",
       "        text-align: right;\n",
       "    }\n",
       "</style>\n",
       "<table border=\"1\" class=\"dataframe\">\n",
       "  <thead>\n",
       "    <tr style=\"text-align: right;\">\n",
       "      <th></th>\n",
       "      <th>Recording</th>\n",
       "      <th>Status</th>\n",
       "      <th>Gender</th>\n",
       "      <th>Jitter_rel</th>\n",
       "      <th>Jitter_abs</th>\n",
       "      <th>Jitter_RAP</th>\n",
       "      <th>Jitter_PPQ</th>\n",
       "      <th>Shim_loc</th>\n",
       "      <th>Shim_dB</th>\n",
       "      <th>Shim_APQ3</th>\n",
       "      <th>...</th>\n",
       "      <th>Delta3</th>\n",
       "      <th>Delta4</th>\n",
       "      <th>Delta5</th>\n",
       "      <th>Delta6</th>\n",
       "      <th>Delta7</th>\n",
       "      <th>Delta8</th>\n",
       "      <th>Delta9</th>\n",
       "      <th>Delta10</th>\n",
       "      <th>Delta11</th>\n",
       "      <th>Delta12</th>\n",
       "    </tr>\n",
       "    <tr>\n",
       "      <th>ID</th>\n",
       "      <th></th>\n",
       "      <th></th>\n",
       "      <th></th>\n",
       "      <th></th>\n",
       "      <th></th>\n",
       "      <th></th>\n",
       "      <th></th>\n",
       "      <th></th>\n",
       "      <th></th>\n",
       "      <th></th>\n",
       "      <th></th>\n",
       "      <th></th>\n",
       "      <th></th>\n",
       "      <th></th>\n",
       "      <th></th>\n",
       "      <th></th>\n",
       "      <th></th>\n",
       "      <th></th>\n",
       "      <th></th>\n",
       "      <th></th>\n",
       "      <th></th>\n",
       "    </tr>\n",
       "  </thead>\n",
       "  <tbody>\n",
       "    <tr>\n",
       "      <th>CONT-01</th>\n",
       "      <td>1</td>\n",
       "      <td>0</td>\n",
       "      <td>1</td>\n",
       "      <td>0.25546</td>\n",
       "      <td>0.000015</td>\n",
       "      <td>0.001467</td>\n",
       "      <td>0.001673</td>\n",
       "      <td>0.030256</td>\n",
       "      <td>0.26313</td>\n",
       "      <td>0.017463</td>\n",
       "      <td>...</td>\n",
       "      <td>1.407701</td>\n",
       "      <td>1.417218</td>\n",
       "      <td>1.380352</td>\n",
       "      <td>1.420670</td>\n",
       "      <td>1.451240</td>\n",
       "      <td>1.440295</td>\n",
       "      <td>1.403678</td>\n",
       "      <td>1.405495</td>\n",
       "      <td>1.416705</td>\n",
       "      <td>1.354610</td>\n",
       "    </tr>\n",
       "    <tr>\n",
       "      <th>CONT-01</th>\n",
       "      <td>2</td>\n",
       "      <td>0</td>\n",
       "      <td>1</td>\n",
       "      <td>0.36964</td>\n",
       "      <td>0.000022</td>\n",
       "      <td>0.001932</td>\n",
       "      <td>0.002245</td>\n",
       "      <td>0.023146</td>\n",
       "      <td>0.20217</td>\n",
       "      <td>0.013010</td>\n",
       "      <td>...</td>\n",
       "      <td>1.331232</td>\n",
       "      <td>1.227338</td>\n",
       "      <td>1.213377</td>\n",
       "      <td>1.352739</td>\n",
       "      <td>1.354242</td>\n",
       "      <td>1.365692</td>\n",
       "      <td>1.322870</td>\n",
       "      <td>1.314549</td>\n",
       "      <td>1.318999</td>\n",
       "      <td>1.323508</td>\n",
       "    </tr>\n",
       "    <tr>\n",
       "      <th>CONT-01</th>\n",
       "      <td>3</td>\n",
       "      <td>0</td>\n",
       "      <td>1</td>\n",
       "      <td>0.23514</td>\n",
       "      <td>0.000013</td>\n",
       "      <td>0.001353</td>\n",
       "      <td>0.001546</td>\n",
       "      <td>0.019338</td>\n",
       "      <td>0.16710</td>\n",
       "      <td>0.011049</td>\n",
       "      <td>...</td>\n",
       "      <td>1.412304</td>\n",
       "      <td>1.324674</td>\n",
       "      <td>1.276088</td>\n",
       "      <td>1.429634</td>\n",
       "      <td>1.455996</td>\n",
       "      <td>1.368882</td>\n",
       "      <td>1.438053</td>\n",
       "      <td>1.388910</td>\n",
       "      <td>1.305469</td>\n",
       "      <td>1.305402</td>\n",
       "    </tr>\n",
       "    <tr>\n",
       "      <th>CONT-02</th>\n",
       "      <td>1</td>\n",
       "      <td>0</td>\n",
       "      <td>0</td>\n",
       "      <td>0.29320</td>\n",
       "      <td>0.000017</td>\n",
       "      <td>0.001105</td>\n",
       "      <td>0.001444</td>\n",
       "      <td>0.024716</td>\n",
       "      <td>0.20892</td>\n",
       "      <td>0.014525</td>\n",
       "      <td>...</td>\n",
       "      <td>1.501200</td>\n",
       "      <td>1.534170</td>\n",
       "      <td>1.323993</td>\n",
       "      <td>1.496442</td>\n",
       "      <td>1.472926</td>\n",
       "      <td>1.643177</td>\n",
       "      <td>1.551286</td>\n",
       "      <td>1.638346</td>\n",
       "      <td>1.604008</td>\n",
       "      <td>1.621456</td>\n",
       "    </tr>\n",
       "  </tbody>\n",
       "</table>\n",
       "<p>4 rows × 47 columns</p>\n",
       "</div>"
      ],
      "text/plain": [
       "         Recording  Status  Gender  Jitter_rel  Jitter_abs  Jitter_RAP  \\\n",
       "ID                                                                       \n",
       "CONT-01          1       0       1     0.25546    0.000015    0.001467   \n",
       "CONT-01          2       0       1     0.36964    0.000022    0.001932   \n",
       "CONT-01          3       0       1     0.23514    0.000013    0.001353   \n",
       "CONT-02          1       0       0     0.29320    0.000017    0.001105   \n",
       "\n",
       "         Jitter_PPQ  Shim_loc  Shim_dB  Shim_APQ3  ...    Delta3    Delta4  \\\n",
       "ID                                                 ...                       \n",
       "CONT-01    0.001673  0.030256  0.26313   0.017463  ...  1.407701  1.417218   \n",
       "CONT-01    0.002245  0.023146  0.20217   0.013010  ...  1.331232  1.227338   \n",
       "CONT-01    0.001546  0.019338  0.16710   0.011049  ...  1.412304  1.324674   \n",
       "CONT-02    0.001444  0.024716  0.20892   0.014525  ...  1.501200  1.534170   \n",
       "\n",
       "           Delta5    Delta6    Delta7    Delta8    Delta9   Delta10   Delta11  \\\n",
       "ID                                                                              \n",
       "CONT-01  1.380352  1.420670  1.451240  1.440295  1.403678  1.405495  1.416705   \n",
       "CONT-01  1.213377  1.352739  1.354242  1.365692  1.322870  1.314549  1.318999   \n",
       "CONT-01  1.276088  1.429634  1.455996  1.368882  1.438053  1.388910  1.305469   \n",
       "CONT-02  1.323993  1.496442  1.472926  1.643177  1.551286  1.638346  1.604008   \n",
       "\n",
       "          Delta12  \n",
       "ID                 \n",
       "CONT-01  1.354610  \n",
       "CONT-01  1.323508  \n",
       "CONT-01  1.305402  \n",
       "CONT-02  1.621456  \n",
       "\n",
       "[4 rows x 47 columns]"
      ]
     },
     "execution_count": 3,
     "metadata": {},
     "output_type": "execute_result"
    }
   ],
   "source": [
    "path_of_input_file = 'D:\\\\kaggle_trials\\\\parkinsons_dataset\\\\ReplicatedAcousticFeatures-ParkinsonDatabase.csv'\n",
    "df                 = pd.read_csv(path_of_input_file,index_col='ID')\n",
    "df.head(4)"
   ]
  },
  {
   "cell_type": "markdown",
   "metadata": {},
   "source": [
    "<div class=\"alert alert-block alert-success\">\n",
    "<b>Feature Extraction:</b> We extract the x matrix and Y predictors needed for classification\n",
    "</div>"
   ]
  },
  {
   "cell_type": "code",
   "execution_count": 4,
   "metadata": {},
   "outputs": [],
   "source": [
    "cols        = df.columns.tolist()\n",
    "cols_needed = cols[2:len(cols)-1]\n",
    "X           = df[cols_needed].values\n",
    "y           = df[cols[1]].values"
   ]
  },
  {
   "cell_type": "code",
   "execution_count": 5,
   "metadata": {},
   "outputs": [
    {
     "name": "stdout",
     "output_type": "stream",
     "text": [
      "The number of labels are  2\n"
     ]
    }
   ],
   "source": [
    "num_labels = df['Status'].unique()\n",
    "print('The number of labels are ',len(num_labels))"
   ]
  },
  {
   "cell_type": "code",
   "execution_count": 6,
   "metadata": {},
   "outputs": [
    {
     "name": "stdout",
     "output_type": "stream",
     "text": [
      "The number of  0  labels are :-  120\n",
      "The number of  1  labels are :-  120\n",
      "We have a pretty balanced dataset and hence we wont need to perform any imbalanced dataset handling\n"
     ]
    }
   ],
   "source": [
    "for i in range(len(num_labels)):\n",
    "    print('The number of ', num_labels[i] ,' labels are :- ',len(df[df['Status']==num_labels[i]]))\n",
    "print('We have a pretty balanced dataset and hence we wont need to perform any imbalanced dataset handling')"
   ]
  },
  {
   "cell_type": "markdown",
   "metadata": {},
   "source": [
    "<div class=\"alert alert-block alert-success\">\n",
    "<b>Feature Scaling:</b> We will perform Min-Max Scaling on our numerical features and one hot encode the categorical features to get the X matrix.\n",
    "</div>"
   ]
  },
  {
   "cell_type": "code",
   "execution_count": 7,
   "metadata": {},
   "outputs": [],
   "source": [
    "columns_to_encode = ['Gender']\n",
    "columns_to_scale  = list(set(cols_needed)-set(['Gender']))\n",
    "\n",
    "scaler            = MinMaxScaler()\n",
    "ohe               = OneHotEncoder(sparse=False)\n",
    "\n",
    "scaled_columns    = scaler.fit_transform(df[columns_to_scale]) \n",
    "encoded_columns   =    ohe.fit_transform(df[columns_to_encode])\n",
    "\n",
    "X_processed_data  = np.concatenate([scaled_columns, encoded_columns], axis=1)"
   ]
  },
  {
   "cell_type": "code",
   "execution_count": null,
   "metadata": {},
   "outputs": [],
   "source": []
  },
  {
   "cell_type": "markdown",
   "metadata": {},
   "source": [
    "<div class=\"alert alert-block alert-success\">\n",
    "<b>Train Test Split of data:</b> We will split the data to train and test data to fit the model\n",
    "</div>"
   ]
  },
  {
   "cell_type": "code",
   "execution_count": 7,
   "metadata": {},
   "outputs": [],
   "source": [
    "X_train, X_test, y_train, y_test = train_test_split(X_processed_data, y, test_size=0.33, random_state=42)"
   ]
  },
  {
   "cell_type": "markdown",
   "metadata": {},
   "source": [
    "<div class=\"alert alert-block alert-success\">\n",
    "<b>Parameter grid creation and Tuning:</b> We will now create a grid for hyperparameter tuning. We needed to create 3 such grids because there are certain parameters that are dependent on other hyperparameters of the model\n",
    "</div>"
   ]
  },
  {
   "cell_type": "code",
   "execution_count": 8,
   "metadata": {},
   "outputs": [],
   "source": [
    "svc_grid_1  = {'C' : hp.uniform('C',0.0,5),\n",
    "             'kernel' : hp.choice('kernel',['linear','poly','rbf','sigmoid']),\n",
    "             'decision_function_shape':hp.choice('decision_function_shape',['ovo','ovr']),\n",
    "               'shrinking' : hp.choice('shrinking',[True,False])\n",
    "            }\n",
    "svc_grid_non_linear = {'degree':hp.choice('degree',range(1,10))}\n",
    "svc_poly_sigmoid    = {'coef0':hp.uniform('coef0',0.0,1.0)}\n"
   ]
  },
  {
   "cell_type": "code",
   "execution_count": 9,
   "metadata": {},
   "outputs": [
    {
     "name": "stdout",
     "output_type": "stream",
     "text": [
      "100%|███████████████████████████████████████████████| 200/200 [00:01<00:00, 122.50it/s, best loss: -0.8129154795821463]\n",
      "100%|███████████████████████████████████████████████| 200/200 [00:01<00:00, 174.19it/s, best loss: -0.8129154795821463]\n",
      "The best parameter tuned on training set is given by :-  {'C': 4.9272622013218434, 'decision_function_shape': 'ovr', 'degree': 7, 'kernel': 'rbf', 'shrinking': False}\n"
     ]
    }
   ],
   "source": [
    "def hyperopt_train_test(params):\n",
    "    clf = SVC(**params)\n",
    "    return cross_val_score(clf, X_train, y_train).mean()\n",
    "\n",
    "def function_to_minimise(params):\n",
    "    accuracy = hyperopt_train_test(params)\n",
    "    return {'loss': -1*accuracy, 'status': STATUS_OK}\n",
    "\n",
    "\n",
    "trials          = Trials()\n",
    "best            = fmin(function_to_minimise, svc_grid_1, algo=tpe.suggest, max_evals=200, trials=trials)\n",
    "best_parameters = space_eval(svc_grid_1, best)\n",
    "final_best_params = best_parameters\n",
    "if best_parameters['kernel']!='linear':\n",
    "    trials          = Trials()\n",
    "    svc_grid_non_linear.update(best_parameters)\n",
    "    best            = fmin(function_to_minimise, svc_grid_non_linear, algo=tpe.suggest, max_evals=200, trials=trials)\n",
    "    best_parameter_1 = space_eval(svc_grid_non_linear, best)\n",
    "    final_best_params = best_parameter_1\n",
    "if best_parameters['kernel']=='poly' or best_parameters['kernel']=='sigmoid':\n",
    "    trials          = Trials()\n",
    "    svc_poly_sigmoid.update(best_parameters)\n",
    "    best            = fmin(function_to_minimise, svc_poly_sigmoid, algo=tpe.suggest, max_evals=200, trials=trials)\n",
    "    best_parameters_2 = space_eval(svc_poly_sigmoid, best)\n",
    "    final_best_params = best_parameters_2\n",
    "    \n",
    "print('The best parameter tuned on training set is given by :- ',final_best_params)"
   ]
  },
  {
   "cell_type": "markdown",
   "metadata": {},
   "source": [
    "<div class=\"alert alert-block alert-success\">\n",
    "<b>Model Fitting:</b> We will now fit the model with parameters obtained from the previous step \n",
    "</div>"
   ]
  },
  {
   "cell_type": "code",
   "execution_count": 10,
   "metadata": {},
   "outputs": [
    {
     "data": {
      "text/plain": [
       "SVC(C=4.9272622013218434, cache_size=200, class_weight=None, coef0=0.0,\n",
       "    decision_function_shape='ovr', degree=7, gamma='auto_deprecated',\n",
       "    kernel='rbf', max_iter=-1, probability=False, random_state=None,\n",
       "    shrinking=False, tol=0.001, verbose=False)"
      ]
     },
     "execution_count": 10,
     "metadata": {},
     "output_type": "execute_result"
    }
   ],
   "source": [
    "svc_clf = SVC(**final_best_params)\n",
    "svc_clf.fit(X_train,y_train)"
   ]
  },
  {
   "cell_type": "markdown",
   "metadata": {},
   "source": [
    "<div class=\"alert alert-block alert-success\">\n",
    "<b>Final results:</b> We obtained the following results from SVC classifier\n",
    "</div>"
   ]
  },
  {
   "cell_type": "code",
   "execution_count": 11,
   "metadata": {},
   "outputs": [
    {
     "name": "stdout",
     "output_type": "stream",
     "text": [
      "The classification report obtained is below:- \n",
      "\n",
      "              precision    recall  f1-score   support\n",
      "\n",
      "           0       0.85      0.85      0.85        40\n",
      "           1       0.85      0.85      0.85        40\n",
      "\n",
      "    accuracy                           0.85        80\n",
      "   macro avg       0.85      0.85      0.85        80\n",
      "weighted avg       0.85      0.85      0.85        80\n",
      "\n"
     ]
    }
   ],
   "source": [
    "y_pred = svc_clf.predict(X_test)\n",
    "print('The classification report obtained is below:- \\n')\n",
    "print(classification_report(y_pred,y_test))"
   ]
  },
  {
   "cell_type": "code",
   "execution_count": null,
   "metadata": {},
   "outputs": [],
   "source": []
  },
  {
   "cell_type": "code",
   "execution_count": null,
   "metadata": {},
   "outputs": [],
   "source": []
  }
 ],
 "metadata": {
  "kernelspec": {
   "display_name": "Python 3",
   "language": "python",
   "name": "python3"
  },
  "language_info": {
   "codemirror_mode": {
    "name": "ipython",
    "version": 3
   },
   "file_extension": ".py",
   "mimetype": "text/x-python",
   "name": "python",
   "nbconvert_exporter": "python",
   "pygments_lexer": "ipython3",
   "version": "3.7.3"
  }
 },
 "nbformat": 4,
 "nbformat_minor": 2
}
